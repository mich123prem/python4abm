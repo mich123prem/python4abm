{
 "cells": [
  {
   "cell_type": "markdown",
   "id": "7918e362",
   "metadata": {},
   "source": [
    "# Noen oppgaver om funksjoner"
   ]
  },
  {
   "cell_type": "markdown",
   "id": "848d8ddc",
   "metadata": {},
   "source": [
    "## 1. ISBN\n",
    "\n",
    "\"The International Standard Book Number (ISBN) is a numeric commercial book identifier that is intended to be unique.\" (https://en.wikipedia.org/wiki/ISBN)\n",
    "\n",
    "En ISBN består av enten 10 (ISBN-10) eller 13 (ISBN-13) tegn. Alle tegn er tall, men untak av den siste som kan være en tall eller X."
   ]
  },
  {
   "cell_type": "markdown",
   "id": "606ec7fa",
   "metadata": {},
   "source": [
    "### 1.1 Opprett en liste med seks ISBN\n",
    "\n",
    "* 9788245036695\n",
    "* 978-1-4920-5136-7\n",
    "* 978-1-449-35573-9\n",
    "* 1568989792\n",
    "* 978-3-662-57046-3\n",
    "* 1-4665-0529-X\n"
   ]
  },
  {
   "cell_type": "code",
   "execution_count": null,
   "id": "f344e82e",
   "metadata": {},
   "outputs": [],
   "source": []
  },
  {
   "cell_type": "markdown",
   "id": "c38ab5cd",
   "metadata": {},
   "source": [
    "### 1.2 Lag en funksjon som fjerner bindestrek fra ISBNer"
   ]
  },
  {
   "cell_type": "code",
   "execution_count": null,
   "id": "12173100",
   "metadata": {},
   "outputs": [],
   "source": []
  },
  {
   "cell_type": "markdown",
   "id": "c53105c8",
   "metadata": {},
   "source": [
    "### 1.3 Bruk en for-løkke for å sende en og en ISBN fra listen til funksjon\n",
    "\n",
    "Legg den oppdarte ISBN i en ny liste."
   ]
  },
  {
   "cell_type": "code",
   "execution_count": null,
   "id": "c3d8810a",
   "metadata": {},
   "outputs": [],
   "source": []
  },
  {
   "cell_type": "markdown",
   "id": "bcf57c70",
   "metadata": {},
   "source": [
    "### 1.4 Oppdater funksjonen slik at x gjøres om til X"
   ]
  },
  {
   "cell_type": "code",
   "execution_count": null,
   "id": "c9e6a974",
   "metadata": {},
   "outputs": [],
   "source": []
  },
  {
   "cell_type": "markdown",
   "id": "73bea0b5",
   "metadata": {},
   "source": [
    "### 1.5 Oppdater funksjonen slik at alle tegn som er ikke tall eller X fjernes\n",
    "\n",
    "Ferdig funksjon sub fra re (regex) modulen kan være nyttig her. Les mer om funksjonen og regex: https://www.w3schools.com/python/python_regex.asp"
   ]
  },
  {
   "cell_type": "code",
   "execution_count": null,
   "id": "0923612b",
   "metadata": {},
   "outputs": [],
   "source": []
  },
  {
   "cell_type": "markdown",
   "id": "78be7aaa",
   "metadata": {},
   "source": [
    "### 1.6 Oppdater funksjonen slik at det sjekkes om lengden på ISBN er enten 10 eller 13 tegn\n",
    "\n",
    "ISBN som ikke oppfyller kravet bør ikke legges inn i den nye liste."
   ]
  },
  {
   "cell_type": "code",
   "execution_count": null,
   "id": "2a2bf1ce",
   "metadata": {},
   "outputs": [],
   "source": []
  },
  {
   "cell_type": "markdown",
   "id": "1d1e3f3e",
   "metadata": {},
   "source": [
    "### 1.7 Oppdater funksjonen slik at ISBN-10 konverteres til ISBN-13\n",
    "\n",
    "Installer pyisbn-modulen (https://pypi.org/project/pyisbn/). Bruk convert-funksjonen for å konvertere fra ISBN-10 til ISBN-13."
   ]
  },
  {
   "cell_type": "code",
   "execution_count": null,
   "id": "17b49d56",
   "metadata": {},
   "outputs": [],
   "source": []
  },
  {
   "cell_type": "code",
   "execution_count": null,
   "id": "2bc4f8b5",
   "metadata": {},
   "outputs": [],
   "source": []
  }
 ],
 "metadata": {
  "kernelspec": {
   "display_name": "Python 3 (ipykernel)",
   "language": "python",
   "name": "python3"
  },
  "language_info": {
   "codemirror_mode": {
    "name": "ipython",
    "version": 3
   },
   "file_extension": ".py",
   "mimetype": "text/x-python",
   "name": "python",
   "nbconvert_exporter": "python",
   "pygments_lexer": "ipython3",
   "version": "3.10.9"
  }
 },
 "nbformat": 4,
 "nbformat_minor": 5
}
