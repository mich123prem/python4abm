{
 "cells": [
  {
   "cell_type": "markdown",
   "id": "3d28f648",
   "metadata": {},
   "source": [
    "# Noen oppgaver om Pandas"
   ]
  },
  {
   "cell_type": "markdown",
   "id": "34228a53",
   "metadata": {},
   "source": [
    "## 1. Melodi Grand Prix\n",
    "\n",
    "Hent datafilen contestants.csv fra: https://github.com/Spijkervet/eurovision-dataset/releases Les mer om data og prosjektet: https://github.com/Spijkervet/eurovision-dataset?tab=readme-ov-file"
   ]
  },
  {
   "cell_type": "markdown",
   "id": "bf141449",
   "metadata": {},
   "source": [
    "### 1.1 Les inn Pandas-modulen og CSV-filen med data fra Melodi Grand Prix"
   ]
  },
  {
   "cell_type": "code",
   "execution_count": null,
   "id": "6d99fcae",
   "metadata": {},
   "outputs": [],
   "source": []
  },
  {
   "cell_type": "markdown",
   "id": "a1ccabed",
   "metadata": {},
   "source": [
    "### 1.2 Ser på de første fem rader med data"
   ]
  },
  {
   "cell_type": "code",
   "execution_count": null,
   "id": "11b548cf",
   "metadata": {},
   "outputs": [],
   "source": []
  },
  {
   "cell_type": "markdown",
   "id": "8268b9f8",
   "metadata": {},
   "source": [
    "### 1.3 Hvor mange rader og kolonner finnes i data?"
   ]
  },
  {
   "cell_type": "code",
   "execution_count": null,
   "id": "c145dbc7",
   "metadata": {},
   "outputs": [],
   "source": []
  },
  {
   "cell_type": "markdown",
   "id": "a58ac38a",
   "metadata": {},
   "source": [
    "### 1.4 Hvilke kolonner finnes i data?"
   ]
  },
  {
   "cell_type": "code",
   "execution_count": null,
   "id": "d30c0745",
   "metadata": {},
   "outputs": [],
   "source": []
  },
  {
   "cell_type": "markdown",
   "id": "e768f45f",
   "metadata": {},
   "source": [
    "### 1.5 Hvilke datatyper finnes i kolonnene?"
   ]
  },
  {
   "cell_type": "code",
   "execution_count": null,
   "id": "e4081e46",
   "metadata": {},
   "outputs": [],
   "source": []
  },
  {
   "cell_type": "markdown",
   "id": "de632c63",
   "metadata": {},
   "source": [
    "### 1.6 List ut de første 10 verdier i composers-kolonnen"
   ]
  },
  {
   "cell_type": "code",
   "execution_count": null,
   "id": "8b3aa8d9",
   "metadata": {},
   "outputs": [],
   "source": []
  },
  {
   "cell_type": "markdown",
   "id": "cc815afb",
   "metadata": {},
   "source": [
    "### 1.7 List ut de siste 10 verdier fra composers- og to_country-kolonnene"
   ]
  },
  {
   "cell_type": "code",
   "execution_count": null,
   "id": "f9b49f13",
   "metadata": {},
   "outputs": [],
   "source": []
  },
  {
   "cell_type": "markdown",
   "id": "599a1dc6",
   "metadata": {},
   "source": [
    "### 1.8 Bruk .unique() på to_country-kolonnen for å få en liste over land som er deltatt i konkurransen\n",
    "\n",
    "Lag en for-løkke som skriv ut landende."
   ]
  },
  {
   "cell_type": "code",
   "execution_count": null,
   "id": "d690632e",
   "metadata": {},
   "outputs": [],
   "source": []
  },
  {
   "cell_type": "markdown",
   "id": "7c094491",
   "metadata": {},
   "source": [
    "### 1.9 Lag en filter for å liste ut de første fem bidrag som representert norge. Hva var året, sangeren og tittelen på låtet?"
   ]
  },
  {
   "cell_type": "code",
   "execution_count": null,
   "id": "d7938e66",
   "metadata": {},
   "outputs": [],
   "source": []
  },
  {
   "cell_type": "markdown",
   "id": "f89ce65e",
   "metadata": {},
   "source": [
    "### 1.10 Avgrens rapporten fra forrige celle slik at kun data fra etter 2010 vises"
   ]
  },
  {
   "cell_type": "code",
   "execution_count": null,
   "id": "303ea27d",
   "metadata": {},
   "outputs": [],
   "source": []
  },
  {
   "cell_type": "markdown",
   "id": "22f6b94e",
   "metadata": {},
   "source": [
    "### 1.11 Hvilke låter hadde 'happy' i teksten? Skriv ut år, sanger, låttittel og land"
   ]
  },
  {
   "cell_type": "code",
   "execution_count": null,
   "id": "086ac8a1",
   "metadata": {},
   "outputs": [],
   "source": []
  },
  {
   "cell_type": "markdown",
   "id": "c6890857",
   "metadata": {},
   "source": [
    "### 1.12 Er det noen rader som mangler en verdi i kolonnen for låttittel?"
   ]
  },
  {
   "cell_type": "code",
   "execution_count": null,
   "id": "0fbf62dd",
   "metadata": {},
   "outputs": [],
   "source": []
  },
  {
   "cell_type": "markdown",
   "id": "b33b1521",
   "metadata": {},
   "source": [
    "### 1.13 Hvilke land har deltatt fleste ganger i konkurransen i følge datasettet?"
   ]
  },
  {
   "cell_type": "code",
   "execution_count": null,
   "id": "f1707f2e",
   "metadata": {},
   "outputs": [],
   "source": []
  },
  {
   "cell_type": "markdown",
   "id": "638774ad",
   "metadata": {},
   "source": [
    "### 1.14 Hvilken plassering fikk norge i 1964?"
   ]
  },
  {
   "cell_type": "code",
   "execution_count": null,
   "id": "dbc6b9c0",
   "metadata": {},
   "outputs": [],
   "source": []
  },
  {
   "cell_type": "markdown",
   "id": "d57a3dce",
   "metadata": {},
   "source": [
    "### 1.15 Hva er de 10 beste plasseringer for norge? Vis året, sangeren, låttittel og plassering"
   ]
  },
  {
   "cell_type": "code",
   "execution_count": null,
   "id": "77e61d01",
   "metadata": {},
   "outputs": [],
   "source": []
  },
  {
   "cell_type": "markdown",
   "id": "feff8cce",
   "metadata": {},
   "source": [
    "### 1.16 Bruk en .plot() for å vise de 10 landende som har vunnet konkuransen flest ganger"
   ]
  },
  {
   "cell_type": "code",
   "execution_count": null,
   "id": "2e59529a",
   "metadata": {},
   "outputs": [],
   "source": []
  },
  {
   "cell_type": "markdown",
   "id": "02e19878",
   "metadata": {},
   "source": [
    "### 1.17 Lag en ny dataframe med data om norges bidrag. Velg ut de kolonnene som er relevante. Lagrer dataframe som en CSV-fil."
   ]
  },
  {
   "cell_type": "code",
   "execution_count": null,
   "id": "164e0f9f",
   "metadata": {},
   "outputs": [],
   "source": []
  },
  {
   "cell_type": "code",
   "execution_count": null,
   "id": "36203187",
   "metadata": {},
   "outputs": [],
   "source": []
  }
 ],
 "metadata": {
  "kernelspec": {
   "display_name": "Python 3 (ipykernel)",
   "language": "python",
   "name": "python3"
  },
  "language_info": {
   "codemirror_mode": {
    "name": "ipython",
    "version": 3
   },
   "file_extension": ".py",
   "mimetype": "text/x-python",
   "name": "python",
   "nbconvert_exporter": "python",
   "pygments_lexer": "ipython3",
   "version": "3.10.9"
  }
 },
 "nbformat": 4,
 "nbformat_minor": 5
}
