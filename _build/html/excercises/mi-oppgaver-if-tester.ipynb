{
 "cells": [
  {
   "cell_type": "markdown",
   "id": "02501516",
   "metadata": {},
   "source": [
    "# Noen oppgaver om if-tester"
   ]
  },
  {
   "cell_type": "markdown",
   "id": "8fdf82ab",
   "metadata": {},
   "source": [
    "## 1. Din hjemmekommune"
   ]
  },
  {
   "cell_type": "markdown",
   "id": "12a7afec",
   "metadata": {},
   "source": [
    "### 1.1 Opprett variabler\n",
    "\n",
    "Opprett to variabler:\n",
    "\n",
    "1. navn på den største byen i din hjemmekommune\n",
    "2. folketallet for byen"
   ]
  },
  {
   "cell_type": "code",
   "execution_count": null,
   "id": "2c77a6b9",
   "metadata": {},
   "outputs": [],
   "source": []
  },
  {
   "cell_type": "markdown",
   "id": "51683fea",
   "metadata": {},
   "source": [
    "### 1.2 Storby?\n",
    "\n",
    "I følge Wikipedia \"I Noreg reknar ein byar med over 50 000 innbyggjarar som storbyar.\" (https://nn.wikipedia.org/wiki/Storby).\n",
    "\n",
    "Lag en if-test som skriver ut en tekst om byen er en storby."
   ]
  },
  {
   "cell_type": "code",
   "execution_count": null,
   "id": "cac01833",
   "metadata": {},
   "outputs": [],
   "source": []
  },
  {
   "cell_type": "markdown",
   "id": "2bbc42f8",
   "metadata": {},
   "source": [
    "### 1.3 Tettsted, by eller storby?\n",
    "\n",
    "Utvid koden med if-tester for tettsted og by. Endrer verdien i folketallet-variabelen for å få ulike resultater."
   ]
  },
  {
   "cell_type": "code",
   "execution_count": null,
   "id": "61d94fda",
   "metadata": {},
   "outputs": [],
   "source": []
  },
  {
   "cell_type": "markdown",
   "id": "f30a5ba9",
   "metadata": {},
   "source": [
    "## 2. Billettautomat\n",
    "\n",
    "Tenk at vi skal lage kode for en billettautomat for togene på Østfoldsbanen."
   ]
  },
  {
   "cell_type": "markdown",
   "id": "53b8cd8c",
   "metadata": {},
   "source": [
    "### 2.1 Opprett variabler\n",
    "\n",
    "Opprett følgende variabler og tilordne verdier:\n",
    "\n",
    "1. Antall voksne\n",
    "2. Antall barn\n",
    "3. Billettpris for voksne\n",
    "4. Billett pris for barn (som er halvpris av voksenpris)"
   ]
  },
  {
   "cell_type": "code",
   "execution_count": null,
   "id": "5afc611d",
   "metadata": {},
   "outputs": [],
   "source": []
  },
  {
   "cell_type": "markdown",
   "id": "31ac3923",
   "metadata": {},
   "source": [
    "### 2.2 Familiebillett?\n",
    "\n",
    "* Regner ut total pris som skal betales\n",
    "* Hvis det er både voksne og barn gi en 20% avslag på prisen"
   ]
  },
  {
   "cell_type": "code",
   "execution_count": null,
   "id": "a40e818e",
   "metadata": {},
   "outputs": [],
   "source": []
  },
  {
   "cell_type": "markdown",
   "id": "437e5d89",
   "metadata": {},
   "source": [
    "### 2.3 Rabattkoden?\n",
    "\n",
    "* Lag en ny variabel for rabattkode\n",
    "* Sjekk om rabattkoden er SOMMER2024. Gi et ekstra avslag på prisen."
   ]
  },
  {
   "cell_type": "code",
   "execution_count": null,
   "id": "623fbce9",
   "metadata": {},
   "outputs": [],
   "source": []
  },
  {
   "cell_type": "code",
   "execution_count": null,
   "id": "db04020d",
   "metadata": {},
   "outputs": [],
   "source": []
  },
  {
   "cell_type": "code",
   "execution_count": null,
   "id": "b63c9c2d",
   "metadata": {},
   "outputs": [],
   "source": []
  }
 ],
 "metadata": {
  "kernelspec": {
   "display_name": "Python 3 (ipykernel)",
   "language": "python",
   "name": "python3"
  },
  "language_info": {
   "codemirror_mode": {
    "name": "ipython",
    "version": 3
   },
   "file_extension": ".py",
   "mimetype": "text/x-python",
   "name": "python",
   "nbconvert_exporter": "python",
   "pygments_lexer": "ipython3",
   "version": "3.10.9"
  }
 },
 "nbformat": 4,
 "nbformat_minor": 5
}
