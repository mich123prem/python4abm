{
 "cells": [
  {
   "cell_type": "markdown",
   "id": "22975f89",
   "metadata": {},
   "source": [
    "# Noen oppgaver om variabler"
   ]
  },
  {
   "cell_type": "markdown",
   "id": "5b4de9bb",
   "metadata": {},
   "source": [
    "## 1. Din hjemmekommune"
   ]
  },
  {
   "cell_type": "markdown",
   "id": "fdc326d7",
   "metadata": {},
   "source": [
    "### 1.1 Tilordning av direkte verdier\n",
    "\n",
    "Opprett noen variabler for kommune du var født i. Verdier finner du i Wikipedia.\n",
    "\n",
    "* kommunenavn\n",
    "* fylke\n",
    "* befolkningstall\n",
    "* område"
   ]
  },
  {
   "cell_type": "code",
   "execution_count": null,
   "id": "94668db2",
   "metadata": {},
   "outputs": [],
   "source": []
  },
  {
   "cell_type": "markdown",
   "id": "0cf14dd5",
   "metadata": {},
   "source": [
    "### 1.2 Hva er datatypene til variablene?"
   ]
  },
  {
   "cell_type": "code",
   "execution_count": null,
   "id": "0364b40c",
   "metadata": {},
   "outputs": [],
   "source": []
  },
  {
   "cell_type": "markdown",
   "id": "55f022ec",
   "metadata": {},
   "source": [
    "### 1.3 Skriv ut variablene"
   ]
  },
  {
   "cell_type": "code",
   "execution_count": null,
   "id": "6159ac3b",
   "metadata": {},
   "outputs": [],
   "source": []
  },
  {
   "cell_type": "markdown",
   "id": "2b4e954f",
   "metadata": {},
   "source": [
    "### 1.4 Skriv ut variablene med fortekster\n",
    "\n",
    "F.eks. `print('Dato:', dato)`. Her skriver vi verdien fra variabelen _data_ etter forteksten _Dato:_."
   ]
  },
  {
   "cell_type": "code",
   "execution_count": null,
   "id": "45633655",
   "metadata": {},
   "outputs": [],
   "source": []
  },
  {
   "cell_type": "markdown",
   "id": "03d1810c",
   "metadata": {},
   "source": [
    "### 1.5 Skriv ut variabler som en del av en setning\n",
    "\n",
    "Skriv ut 'Jeg valgt _kommune_ som ligger i _fylke_.'"
   ]
  },
  {
   "cell_type": "code",
   "execution_count": null,
   "id": "dc8cf76a",
   "metadata": {},
   "outputs": [],
   "source": []
  },
  {
   "cell_type": "markdown",
   "id": "f2f50aea",
   "metadata": {},
   "source": [
    "## 2. Billettautomat\n",
    "\n",
    "Tenk at vi skal lage kode for en billettautomat for togene på Østfoldsbanen."
   ]
  },
  {
   "cell_type": "markdown",
   "id": "915a94b4",
   "metadata": {},
   "source": [
    "### 2.1 Finn en tog stasjon. Finn prisen for en billett til Oslo. Opprett variabler og tilordner verdier"
   ]
  },
  {
   "cell_type": "code",
   "execution_count": null,
   "id": "bad37a72",
   "metadata": {},
   "outputs": [],
   "source": []
  },
  {
   "cell_type": "markdown",
   "id": "c47274ec",
   "metadata": {},
   "source": [
    "### 2.2 Barn reiser for halv pris. Bruk en aritmetisk operasjon for å tilordne prisen på barnebilletter"
   ]
  },
  {
   "cell_type": "code",
   "execution_count": null,
   "id": "295610b5",
   "metadata": {},
   "outputs": [],
   "source": []
  },
  {
   "cell_type": "markdown",
   "id": "87dfc3b4",
   "metadata": {},
   "source": [
    "### 2.3 Reisefølget består av 2 voksne og 3 barn. Regn ut totalprisen for billettene og tilordne det til en variabel. Skriv ut resultatet."
   ]
  },
  {
   "cell_type": "code",
   "execution_count": null,
   "id": "a9607124",
   "metadata": {},
   "outputs": [],
   "source": []
  }
 ],
 "metadata": {
  "kernelspec": {
   "display_name": "Python 3 (ipykernel)",
   "language": "python",
   "name": "python3"
  },
  "language_info": {
   "codemirror_mode": {
    "name": "ipython",
    "version": 3
   },
   "file_extension": ".py",
   "mimetype": "text/x-python",
   "name": "python",
   "nbconvert_exporter": "python",
   "pygments_lexer": "ipython3",
   "version": "3.11.4"
  }
 },
 "nbformat": 4,
 "nbformat_minor": 5
}