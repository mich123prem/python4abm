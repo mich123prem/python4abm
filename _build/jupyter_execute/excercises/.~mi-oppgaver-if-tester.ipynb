{
 "cells": [
  {
   "cell_type": "markdown",
   "id": "02501516",
   "metadata": {},
   "source": [
    "# Noen oppgaver om if-tester"
   ]
  },
  {
   "cell_type": "markdown",
   "id": "8fdf82ab",
   "metadata": {},
   "source": [
    "## 1. Din hjemmekommune"
   ]
  },
  {
   "cell_type": "markdown",
   "id": "12a7afec",
   "metadata": {},
   "source": [
    "\n",
    "### 1.1 Opprett variabler\n",
    "\n",
    "Opprett to variabler:\n",
    "\n",
    "1. Navnet på den største byen i din hjemkommune\n",
    "2. Byens folketall\n",
    "\n",
    "<button onclick=\"toggleme()\">klikk for løsningsvideo</button>\n",
    "<div  id=\"toggle1\" align=\"center\">\n",
    "    <video preload=\"auto\" width=\"105%\" \n",
    "     \n",
    "       src=\"https://ltr-abi.no/jb_build/html/excercises/test1.mp4\"  \n",
    "       controls>\n",
    "    </video>\n",
    "</div>\n",
    "```javascript\n",
    "function toggleme() {\n",
    "  var x = document.getElementById(\"toggle1\");\n",
    "  if (x.style.display === \"none\") {\n",
    "    x.style.display = \"block\";\n",
    "  } else {\n",
    "    x.style.display = \"none\";\n",
    "  }\n",
    "}\n",
    "```"
   ]
  },
  {
   "cell_type": "code",
   "execution_count": 1,
   "id": "2c77a6b9",
   "metadata": {},
   "outputs": [],
   "source": [
    "navn = \"Drammen\"\n",
    "folketall = 100000\n"
   ]
  },
  {
   "cell_type": "markdown",
   "id": "51683fea",
   "metadata": {},
   "source": [
    "### 1.2 Storby?\n",
    "\n",
    "I følge Wikipedia \"I Noreg reknar ein byar med over 50 000 innbyggjarar som storbyar.\" (https://nn.wikipedia.org/wiki/Storby).\n",
    "\n",
    "Lag en if-test som forteller om byen er en storby."
   ]
  },
  {
   "cell_type": "code",
   "execution_count": 2,
   "id": "cac01833",
   "metadata": {},
   "outputs": [
    {
     "name": "stdout",
     "output_type": "stream",
     "text": [
      "Drammen er en storby\n"
     ]
    }
   ],
   "source": [
    "if folketall > 50000:\n",
    "    print(navn + \" er en storby\")"
   ]
  },
  {
   "cell_type": "markdown",
   "id": "2bbc42f8",
   "metadata": {},
   "source": [
    "### 1.3 Tettsted, by eller storby?\n",
    "I Wikipedia (https://nn.wikipedia.org/wiki/By#Byar_i_Noreg) står: \"Eit kommunestyre kan i dag sjølv vedtaka å kalla kommunen for by viss dersom kommunen har minst 5 000 innbyggjarar [... noen andre forutsetninger vi ignorerer ]\"\n",
    "\n",
    "Utvid koden med if-tester for tettsted og by. Endre verdien i folketall-variabelen for å få ulike resultater."
   ]
  },
  {
   "cell_type": "code",
   "execution_count": 3,
   "id": "61d94fda",
   "metadata": {},
   "outputs": [
    {
     "ename": "SyntaxError",
     "evalue": "expected ':' (131539822.py, line 6)",
     "output_type": "error",
     "traceback": [
      "\u001b[0;36m  Cell \u001b[0;32mIn[3], line 6\u001b[0;36m\u001b[0m\n\u001b[0;31m    if folketall > 50000\u001b[0m\n\u001b[0m                        ^\u001b[0m\n\u001b[0;31mSyntaxError\u001b[0m\u001b[0;31m:\u001b[0m expected ':'\n"
     ]
    }
   ],
   "source": [
    "by = 5000\n",
    "storby = 50000\n",
    "if folketall > 5000:\n",
    "    print(navn + \" er en by\")\n",
    "else:\n",
    "    if folketall > 50000\n",
    "    print(navn + \" er ikke en by\")"
   ]
  },
  {
   "cell_type": "markdown",
   "id": "f30a5ba9",
   "metadata": {},
   "source": [
    "## 2. Billettautomat\n",
    "\n",
    "Vi skal lage kode for en billettautomat for togene på Østfoldbanen."
   ]
  },
  {
   "cell_type": "markdown",
   "id": "53b8cd8c",
   "metadata": {},
   "source": [
    "### 2.1 Opprett variabler\n",
    "\n",
    "Opprett følgende variabler og tilordne verdier:\n",
    "\n",
    "1. Antall voksne\n",
    "2. Antall barn\n",
    "3. Billettpris for voksne\n",
    "4. Billettpris for barn (som er det halve av voksenprisen)"
   ]
  },
  {
   "cell_type": "code",
   "execution_count": null,
   "id": "5afc611d",
   "metadata": {},
   "outputs": [],
   "source": []
  },
  {
   "cell_type": "markdown",
   "id": "31ac3923",
   "metadata": {},
   "source": [
    "### 2.2 Familiebillett?\n",
    "\n",
    "* Ta utgangspunkt i en famile. Bestem selv antallet voksne hhv. barn\n",
    "* Regn ut totalpris for familien.\n",
    "* Hvis det er både voksne og barn, gi 20% avslag på prisen."
   ]
  },
  {
   "cell_type": "code",
   "execution_count": null,
   "id": "a40e818e",
   "metadata": {},
   "outputs": [],
   "source": []
  },
  {
   "cell_type": "markdown",
   "id": "437e5d89",
   "metadata": {},
   "source": [
    "### 2.3 Rabattkode?\n",
    "\n",
    "* Lag en ny variabel for rabattkode og sett den til \"SOMMER2024\"\n",
    "* Lag en variabel som skal holde koden brukeren oppga, og sjekk samsvar. \n",
    "* Ved samsvar gi 10% avslag på prisen (evt. ytterligere rabatt på familebilletten)."
   ]
  },
  {
   "cell_type": "code",
   "execution_count": null,
   "id": "623fbce9",
   "metadata": {},
   "outputs": [],
   "source": []
  },
  {
   "cell_type": "code",
   "execution_count": null,
   "id": "db04020d",
   "metadata": {},
   "outputs": [],
   "source": []
  },
  {
   "cell_type": "code",
   "execution_count": null,
   "id": "b63c9c2d",
   "metadata": {},
   "outputs": [],
   "source": []
  }
 ],
 "metadata": {
  "kernelspec": {
   "display_name": "Python 3",
   "language": "python",
   "name": "python3"
  },
  "language_info": {
   "codemirror_mode": {
    "name": "ipython",
    "version": 3
   },
   "file_extension": ".py",
   "mimetype": "text/x-python",
   "name": "python",
   "nbconvert_exporter": "python",
   "pygments_lexer": "ipython3",
   "version": "3.11.4"
  }
 },
 "nbformat": 4,
 "nbformat_minor": 5
}