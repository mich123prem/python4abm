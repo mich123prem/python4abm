{
 "cells": [
  {
   "cell_type": "markdown",
   "id": "f094eb10",
   "metadata": {},
   "source": [
    "# Noen oppgaver om løkker, lister og dict'er"
   ]
  },
  {
   "cell_type": "markdown",
   "id": "857698c5",
   "metadata": {},
   "source": [
    "## 1. Ti heltall"
   ]
  },
  {
   "cell_type": "markdown",
   "id": "9df8d831",
   "metadata": {},
   "source": [
    "### 1.1 Lag en liste med til heltall"
   ]
  },
  {
   "cell_type": "code",
   "execution_count": null,
   "id": "f99fd142",
   "metadata": {},
   "outputs": [],
   "source": []
  },
  {
   "cell_type": "markdown",
   "id": "ab142d50",
   "metadata": {},
   "source": [
    "### 1.2 Skriv ut den femte element i listen"
   ]
  },
  {
   "cell_type": "code",
   "execution_count": null,
   "id": "ae59a184",
   "metadata": {},
   "outputs": [],
   "source": []
  },
  {
   "cell_type": "markdown",
   "id": "ce3865f3",
   "metadata": {},
   "source": [
    "### 1.3 Bruk en for-løkke for å skrive ut alle tallene"
   ]
  },
  {
   "cell_type": "code",
   "execution_count": null,
   "id": "82fdee32",
   "metadata": {},
   "outputs": [],
   "source": []
  },
  {
   "cell_type": "markdown",
   "id": "450778df",
   "metadata": {},
   "source": [
    "### 1.4 Skriv ut resultatet av tallene multiplisert med seg selv"
   ]
  },
  {
   "cell_type": "code",
   "execution_count": null,
   "id": "b1a4bb2d",
   "metadata": {},
   "outputs": [],
   "source": []
  },
  {
   "cell_type": "markdown",
   "id": "0069017e",
   "metadata": {},
   "source": [
    "### 1.5 Skriv ut tallene som er større enn en oppgitt tall"
   ]
  },
  {
   "cell_type": "code",
   "execution_count": null,
   "id": "0d8786ac",
   "metadata": {},
   "outputs": [],
   "source": []
  },
  {
   "cell_type": "markdown",
   "id": "807b3410",
   "metadata": {},
   "source": [
    "### 1.6 Regner ut summen av tallene i listen"
   ]
  },
  {
   "cell_type": "code",
   "execution_count": null,
   "id": "664c1926",
   "metadata": {},
   "outputs": [],
   "source": []
  },
  {
   "cell_type": "markdown",
   "id": "59774d55",
   "metadata": {},
   "source": [
    "### 1.7 Finn gjennomsnittet av tallene"
   ]
  },
  {
   "cell_type": "code",
   "execution_count": null,
   "id": "de6da17f",
   "metadata": {},
   "outputs": [],
   "source": []
  },
  {
   "cell_type": "markdown",
   "id": "c204d144",
   "metadata": {},
   "source": [
    "### 1.8 Finn den største tall i listen"
   ]
  },
  {
   "cell_type": "code",
   "execution_count": null,
   "id": "55ecf2d3",
   "metadata": {},
   "outputs": [],
   "source": []
  },
  {
   "cell_type": "markdown",
   "id": "a216579e",
   "metadata": {},
   "source": [
    "## 2. Multiplikasjonstabell\n",
    "\n",
    "Bruk to for-lokker sammen med range() for å skrive ut en multiplikasjonstabell (fra 1 x 1 til 10 x 10) som begynner slik:\n",
    "\n",
    "```\n",
    "1 x 1 = 1\n",
    "1 x 2 = 2\n",
    "1 x 3 = 3\n",
    "1 x 4 = 4\n",
    "1 x 5 = 5\n",
    "1 x 6 = 6\n",
    "1 x 7 = 7\n",
    "1 x 8 = 8\n",
    "1 x 9 = 9\n",
    "1 x 10 = 10\n",
    "2 x 1 = 2\n",
    "2 x 2 = 4\n",
    "2 x 3 = 6\n",
    "```"
   ]
  },
  {
   "cell_type": "code",
   "execution_count": null,
   "id": "2ab555a8",
   "metadata": {},
   "outputs": [],
   "source": []
  },
  {
   "cell_type": "markdown",
   "id": "fe7ada8f",
   "metadata": {},
   "source": [
    "## 3. Brageprisen"
   ]
  },
  {
   "attachments": {},
   "cell_type": "markdown",
   "id": "2d0627e2",
   "metadata": {},
   "source": [
    "### 3.1 Bruk en dict for å lagre data om de siste seks vinnere av Brageprisen (https://no.wikipedia.org/wiki/Brageprisen). Årstall er nøkkelen og navnet på vinneren er verdien."
   ]
  },
  {
   "cell_type": "code",
   "execution_count": null,
   "id": "c112b058",
   "metadata": {},
   "outputs": [],
   "source": []
  },
  {
   "attachments": {},
   "cell_type": "markdown",
   "id": "2d451784",
   "metadata": {},
   "source": [
    "### 3.2 Bruk en for-løkke for å skrive ut årstall og vinneren"
   ]
  },
  {
   "cell_type": "code",
   "execution_count": null,
   "id": "cbdd87d3",
   "metadata": {},
   "outputs": [],
   "source": []
  },
  {
   "attachments": {},
   "cell_type": "markdown",
   "id": "911ecc81",
   "metadata": {},
   "source": [
    "### 3.3 Skriv ut vinneren av  Brageprisen i 2020"
   ]
  },
  {
   "cell_type": "code",
   "execution_count": null,
   "id": "97277b90",
   "metadata": {},
   "outputs": [],
   "source": []
  },
  {
   "attachments": {},
   "cell_type": "markdown",
   "id": "27b11604",
   "metadata": {},
   "source": [
    "### 3.4 Finn ut om Nina Lykke har vunnet prisen"
   ]
  },
  {
   "cell_type": "code",
   "execution_count": null,
   "id": "b903c92d",
   "metadata": {},
   "outputs": [],
   "source": []
  },
  {
   "cell_type": "markdown",
   "id": "e0363446",
   "metadata": {},
   "source": [
    "## 4. Oscarvinnere"
   ]
  },
  {
   "attachments": {},
   "cell_type": "markdown",
   "id": "550bc28b",
   "metadata": {},
   "source": [
    "### 4.1 Bruk en liste av dictionaries-strukturen for å beskrive noen filmer som har vunnet Oscar for beste film (https://no.wikipedia.org/wiki/Oscar_for_beste_film). Hvilke attributter skal tas med? År, tittel, regissør, ...?"
   ]
  },
  {
   "cell_type": "code",
   "execution_count": null,
   "id": "a2851841",
   "metadata": {},
   "outputs": [],
   "source": []
  },
  {
   "attachments": {},
   "cell_type": "markdown",
   "id": "ca9493fe",
   "metadata": {},
   "source": [
    "### 4.2 Skriv ut alle filmene"
   ]
  },
  {
   "cell_type": "code",
   "execution_count": null,
   "id": "7624881f",
   "metadata": {},
   "outputs": [],
   "source": []
  },
  {
   "attachments": {},
   "cell_type": "markdown",
   "id": "6558e5b9",
   "metadata": {},
   "source": [
    "### 4.3 Skriv ut filmdetaljer fra et gitt år"
   ]
  },
  {
   "cell_type": "code",
   "execution_count": null,
   "id": "c7f6c296",
   "metadata": {},
   "outputs": [],
   "source": []
  },
  {
   "attachments": {},
   "cell_type": "markdown",
   "id": "4d133f6c",
   "metadata": {},
   "source": [
    "### 4.4 Hvordan vil du har lagt til skuespillere som har spilt i filmene?"
   ]
  },
  {
   "cell_type": "code",
   "execution_count": null,
   "id": "a50ec043",
   "metadata": {},
   "outputs": [],
   "source": []
  }
 ],
 "metadata": {
  "kernelspec": {
   "display_name": "Python 3 (ipykernel)",
   "language": "python",
   "name": "python3"
  },
  "language_info": {
   "codemirror_mode": {
    "name": "ipython",
    "version": 3
   },
   "file_extension": ".py",
   "mimetype": "text/x-python",
   "name": "python",
   "nbconvert_exporter": "python",
   "pygments_lexer": "ipython3",
   "version": "3.11.4"
  }
 },
 "nbformat": 4,
 "nbformat_minor": 5
}