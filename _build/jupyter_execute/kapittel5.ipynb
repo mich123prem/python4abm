{
 "cells": [
  {
   "cell_type": "markdown",
   "id": "3213ee8c",
   "metadata": {},
   "source": [
    "# 5. Løkker, lister, tupler, og dict'er\n",
    "\n",
    "I forrige kapittel så vi hvordan et program beslutter hvilke\n",
    "kodelinjer som skal og som ikke skal utføres, ved å teste på \n",
    "**betingelser**.\n",
    "Slike betingelser er mer eller mindre\n",
    "kompliserte **logiske uttrykk** som \"koker ned\" til verdiene\n",
    "`True` (sant) eller `False` (usant).\n",
    "\n",
    "Løkkeprogrammering er en\n",
    "videreføring av dette, ved at et program gjentar en sekvens med\n",
    "handlinger så lenge en *betingelse* er oppfylt.\n",
    "\n",
    "Dataprogrammer behandler ofte mange forekomster av\n",
    "noe. Mange studenter ved en avdeling, mange ansatte ved en\n",
    "institusjon, mange poster i en database, osv. Slike forekomster behandles\n",
    "ofte ganske likt (med vekt på \"ganske\"), slik at det går an å skrive\n",
    "en kodesnutt (noen linjer) èn gang, og la programmet utføre den mange\n",
    "ganger. En slik kodesnutt kaller vi en **løkke** (engelsk: \"loop\").\n",
    "\n",
    "Databaser og datasett vil videre ofte bestå av samlinger av variabler. Slike **samlinger** kan være **lister, tupler og dict'er**. Disse vil også bli behandlet i dette kapitlet.\n",
    "\n",
    "## Løkker\n",
    "\n",
    "Programmeringsspråket *Python* inneholder flere **løkkestrukturer**, hvorav de mest brukte er \n",
    "`for` og `while`-løkkene. I denne boken fokuserer vi på\n",
    "`for`-løkken, men starter med noen eksempler på \n",
    "`while`-løkker, da de har mye til felles med `if`.\n",
    "\n",
    "\n",
    "Alle oppgaver som involverer løkker kan, i\n",
    "prinsippet, gjennomføres ved hjelp av begge de ovennevnte\n",
    "strukturene. Forskjellige situasjoner er likevel best tjent med bruk av ulike løkketyper.\n",
    "\n",
    "### while-løkken\n",
    "\n",
    "En `while`-løkke gjentar en handling uttrykt ved\n",
    "noen linjer med kode, så lenge et _logisk uttrykk_ (for eksempel\n",
    "`i < 5`) er sant. Ordet \"while\" er\n",
    "semantisk litt misvisende. På norsk kunne man heller si:\n",
    "_så lenge_ `i` er mindre enn 5, gjenta disse\n",
    "instruksjonene.\n",
    "\n",
    "Eksempelet nedenfor viser en meget enkel `while`-løkke."
   ]
  },
  {
   "cell_type": "code",
   "execution_count": 1,
   "id": "519d0ea2",
   "metadata": {},
   "outputs": [
    {
     "name": "stdout",
     "output_type": "stream",
     "text": [
      "i er nå lik 0\n",
      "i er nå lik 1\n",
      "i er nå lik 2\n",
      "i er nå lik 3\n",
      "i er nå lik 4\n",
      "Nå er løkken slutt\n"
     ]
    }
   ],
   "source": [
    "i=0 # initialisering\n",
    "while i<5:\n",
    "    print(\"i er nå lik\",i)\n",
    "    i = i + 1   # Oppdatering \n",
    "print(\"Nå er løkken slutt\")"
   ]
  },
  {
   "cell_type": "markdown",
   "id": "c7c9d404",
   "metadata": {},
   "source": [
    "Linje  1 i eksemplet ovenfor tilordner\n",
    "variabelen `i` en oppstartverdi. \n",
    "Dette kalles **initialisering**, og i vårt tilfelle intialiseres `i` til 0. \n",
    "Linjene 3 - 4 utføres gjentatte ganger, så lenge\n",
    "\"fortsettelsesbetingelsen\" (det logiske uttrykket på linje 2) stemmer med virkeligheten. \n",
    "Linje 3 er vår \"nyttehandling\". Den printer verdien som **output**. \n",
    "\n",
    "Linjen 5 oppdaterer variabelen `i`\n",
    "for hver omgang. Uten denne linjen blir betingelsen aldri usann\n",
    "(`False`), og løkken går evig. Etter fem omganger, når `i` har fått verdien `5`, er\n",
    "ikke betingelsen sann lenger, og løkken avslutter. Da fortsetter cellekjøringen, \n",
    "og linjen 5 kjøres.\n",
    "\n",
    "✍️ **Oppgave:** Kopier koden fra cellen over inn i en celle i din egen notebook. Erstatt 5 med et annet tall.\n",
    "\n",
    "⚠️ **Merk!** Ved å skrive `#` (etterfulgt av mellomrom) på en linje kan vi skrive inn kommentarer direkte i koden, uten at det påvirker hva selve programmet gjør. Det er ganske greit, særlig hvis man vil holde styr på hva hver del gjør. \n",
    "\n",
    "\n",
    "\n",
    " \n",
    "### Bruk av logiske uttrykk i if-tester og while-løkker\n",
    "\n",
    "Legg merke til at `if`-tester og `while`-løkker bruker nøyaktig samme\n",
    "type logiske uttrykk, `if`-tester, for å finne ut om en gruppe med\n",
    "instruksjoner i det hele tatt skal utføres, og `while`-løkker for å \n",
    "finne ut om noen linjer skal utføres én gang til (og én gang til... \n",
    "og én gang til...).\n",
    "\n",
    "Linjene i et program utføres èn\n",
    "etter èn. Koden i `while`-eksemplet kan forklares ved å \"nøste opp\" løkken;\n",
    "det som skjer bak kulissene er faktisk det samme som det her:"
   ]
  },
  {
   "cell_type": "code",
   "execution_count": 2,
   "id": "4ad6f5ee",
   "metadata": {},
   "outputs": [
    {
     "name": "stdout",
     "output_type": "stream",
     "text": [
      "i er nå lik  0\n",
      "i er nå lik  1\n",
      "i er nå lik  2\n",
      "i er nå lik  3\n",
      "i er nå lik  4\n",
      "Nå er løkken slutt, fordi i er lik  5\n"
     ]
    }
   ],
   "source": [
    "i = 0\n",
    "if i < 5:\n",
    "    print(\"i er nå lik \",i);\n",
    "    i=i+1 # i blir 1\n",
    "if i < 5:\n",
    "    print(\"i er nå lik \",i)\n",
    "    i=i+1 # i blir 2\n",
    "if i < 5:\n",
    "    print(\"i er nå lik \",i);\n",
    "    i=i+1 # i blir 3\n",
    "if i < 5:\n",
    "    print(\"i er nå lik \",i)\n",
    "    i=i+1 # i blir 4\n",
    "if i < 5:\n",
    "    print(\"i er nå lik \",i)\n",
    "    i=i+1 # i blir 5\n",
    "print(\"Nå er løkken slutt, fordi i er lik \", i) # 5   "
   ]
  },
  {
   "cell_type": "markdown",
   "id": "62ec614a",
   "metadata": {},
   "source": [
    "## for-løkker\n",
    "\n",
    "`for` er den andre løkkestrukturen vi presenterer i dette kapitlet. I motsetning til `while`, som er en \"enkel\" løkkestruktur som eksplisitt sjekker verdier i enkle variabler, er `for`-løkken avhengig av -- og fungerer naturlig med -- en **flerverdivariabel**.\n",
    "\n",
    "Eksempelet nedenfor utfører samme oppgave som vårt første `while`-eksempel."
   ]
  },
  {
   "cell_type": "code",
   "execution_count": 3,
   "id": "c76b7e4f",
   "metadata": {},
   "outputs": [
    {
     "name": "stdout",
     "output_type": "stream",
     "text": [
      "i er nå lik 0\n",
      "i er nå lik 1\n",
      "i er nå lik 2\n",
      "i er nå lik 3\n",
      "i er nå lik 4\n",
      "Nå er løkken slutt\n"
     ]
    }
   ],
   "source": [
    "for i in range(0,5):\n",
    "    # En eller flere Python instruksjoner\n",
    "    print(\"i er nå lik\",i)\n",
    "print(\"Nå er løkken slutt\")"
   ]
  },
  {
   "cell_type": "markdown",
   "id": "852f97f2",
   "metadata": {},
   "source": [
    "```{sidebar} tilsvarende while-løkke\n",
    "<img src=\"./while_sidebar.png\" alt=\"while-versjon\" >\n",
    "```\n",
    "Det opprinnelige `while`-eksemplet er gjengitt i margen for sammenligning.\n",
    "\n",
    "Det første du ser, er at `for`-koden er mye kortere. Vi hopper over både initialiseringen (førstelinjen `i=0` og oppdateringen (linje 4 `i = i + 1`).    \n",
    "\n",
    "Legg merke til strukturen `range(0,5)` på linje 1. `range()` er en *Python*-struktur som konstruerer en **flerverdivariabel**. Denne består nå av verdiene 0, 1, 2, 3 og 4[^range],\n",
    "og `i` antar alle disse etter tur. `for` gjør at den kjører samme type løkke som `while`, hvor den går gjennom hver innførsel og printer verdien (se innrykk) til den når slutten.\n",
    "\n",
    "[^range]: `range(m, n)` gir en sekvens på n tall. Hvis *m* er 0 og *n* er 5, betyr det at den starter med 0 og lager en sekvens på totalt 5 tall. Sekvensen blir verdiene 0,1,2,3 og 4.\n",
    "\n",
    "### Bruk av for-løkker\n",
    "\n",
    "\n",
    "\n",
    "Både `for`- og `while`-løkker  kan, i prinsippet, brukes i alle\n",
    "situasjoner som krever løkker. Vi bruker ofte `for`-løkker når vi vet\n",
    "hvor mange ganger koden skal kjøre, for eksempel lengden på en liste. Altså hvor mange verdier en flerverdivariabel har. `while`-løkker brukes derimot når\n",
    "antallet ganger koden skal kjøres avhenger av ting som skjer underveis i koden. \n",
    "\n",
    "I denne boka bruker vi for det meste `for`-løkken, da den faller naturlig (både teknisk og semantisk) i arbeidet med flerverdivariabler.\n",
    "\n",
    "## Flerverdivariabler\n",
    "\n",
    "En flerverdivariabel er en variabel med navn, som kan holde flere verdier samtidig, ved at verdiene er referert til med **indekser**[^indeks]. I en **liste** eller **tuppel**, er indeksen et tall (0,1,2 osv.), mens i **dictionaries** (som vi ser på senere) kan indeksene være tekststrenger, eller andre typer variabler. \n",
    "\n",
    "[^indeks]: Sier hvor noe er plassert i en **samling**, som for eksempel en liste. \n",
    "\n",
    "### Lister\n",
    "\n",
    "En liste er en struktur som tillater flere variabler å dele ett\n",
    "variabelnavn. Enhver slik variabel kaller vi en **liste-innførsel**\n",
    "(\"list item\" eller \"list entry\" på engelsk).\n",
    "\n",
    "Lister tillater oss å behandle grupper av studenter, tall, matvarer\n",
    "osv. på en *systematisk* måte. \n",
    "I en liste er hver liste-innførsel assosiert med et ordenstall. Liste-innførslene\n",
    "kan skrives slik: `studenter[0]`, `studenter[1]`,\n",
    "`studenter[2]` ... osv.\n",
    "\n",
    "Hver liste-innførsel kan få tilordnet en verdi, uavhengig av de\n",
    "andre innførslene. I eksemplet nedenfor oppretter vi en liten liste og fyller den\n",
    "med noen navn, og deretter printer vi disse. \n",
    "\n",
    "I eksemplet under gir vi navn til en liste (`studenter`), samtidig som vi legger tre innførsler i den."
   ]
  },
  {
   "cell_type": "code",
   "execution_count": 4,
   "id": "12c34257",
   "metadata": {},
   "outputs": [
    {
     "name": "stdout",
     "output_type": "stream",
     "text": [
      "Studentene heter Arne Gerd og Mona\n"
     ]
    }
   ],
   "source": [
    "studenter = [ \"Arne\", \"Gerd\", \"Mona\" ]\n",
    "print(\"Studentene heter\", studenter[0], studenter[1], \"og\", studenter[2])"
   ]
  },
  {
   "cell_type": "markdown",
   "id": "d4e02ab3",
   "metadata": {},
   "source": [
    "Rekkefølgen innførslene er angitt i bestemmer deres posisjon i listen. Dvs. at verdiene (\"Arne\", osv.) er assosiert med indeksene (0, 1, 2) i og med rekkefølgen de er satt inn i skarpklammen.\n",
    "Hvis vi nå ønsker å bytte ut \"Gerd\" med \"Khan\", kan vi overskrive `studenter[1]`, uten å røre de andre innførslene:"
   ]
  },
  {
   "cell_type": "code",
   "execution_count": 5,
   "id": "528c0b0b",
   "metadata": {},
   "outputs": [
    {
     "name": "stdout",
     "output_type": "stream",
     "text": [
      "Studentene heter Arne Khan og Mona\n"
     ]
    }
   ],
   "source": [
    "studenter[1] = \"Khan\"\n",
    "print(\"Studentene heter\", studenter[0], studenter[1], \"og\", studenter[2])"
   ]
  },
  {
   "cell_type": "markdown",
   "id": "30920fd5",
   "metadata": {},
   "source": [
    "### kommandoen len()\n",
    "\n",
    "Hvis vi forholder oss til listen `studenter` fra eksempelene ovenfor,\n",
    "og antar at vi har sett hele listen,\n",
    "ser vi at den har en lengde på 3, dvs. at den inneholder 3\n",
    "uavhengige variabler som kan tilordnes 3 uavhengige verdier. Men\n",
    "stort sett vet  ikke programmereren hvor lang en liste er. I tillegg\n",
    "er lister dynamiske, og lengden på en liste kan forandre seg i\n",
    "løpet av programmets levetid. Det er av\n",
    "og til viktig å vite hvor lang en viss liste er *i et gitt øyeblikk*.\n",
    "\n",
    "\n",
    "*Python*-kommandoen `len(listenavn)` sørger for at innførslene i\n",
    "listen `listenavn` telles opp. `len()` er et eksempel på en\n",
    "**funksjon**. Funksjoner forklares nærmere i\n",
    "neste kapittel, men akkurat nå holder det å forholde seg til hva som skjer når vi bruker denne kommandoen.\n",
    "\n",
    "I eksemplet nedenfor finner vi ut størrelse (også kalt **lengden**) på listen `studenter`."
   ]
  },
  {
   "cell_type": "code",
   "execution_count": 6,
   "id": "f58cfd77",
   "metadata": {},
   "outputs": [
    {
     "name": "stdout",
     "output_type": "stream",
     "text": [
      "3 studenter er registert i listen 'studenter'\n"
     ]
    }
   ],
   "source": [
    "studenter = [ \"Arne\", \"Gerd\", \"Mona\" ]\n",
    "antall_studenter = len(studenter)\n",
    "print(antall_studenter, \"studenter er registert i listen 'studenter'\")"
   ]
  },
  {
   "cell_type": "markdown",
   "id": "19bce04e",
   "metadata": {},
   "source": [
    "✍️ **Oppgave:** Kopier koden inn i en celle i din egen notebook. Legg til navn på en student til etter \"Mona\", og kjør cellen. \n",
    "\n",
    "### Kommandoen list.append()\n",
    "\n",
    "I forrige avsnitt hintet vi til at listene er \"dynamiske\", i den forstand at lengden på \n",
    "listen typisk endrer seg underveis i programmets levetid. Det er flere måter å endre \n",
    "en listes lengde på. Her skal vi se på `list.append()`. Denne er relevant i de tilfellene vi ikke så enkelt har innførselene i en liste tilgjengelig og kan legge til et nytt navn direkte inn i lista, slik vi gjorde i oppgaven over. \n",
    "\n",
    "I eksempel under, linje 3, med `studenter.append(\"Leif\")` legger vi en ny \n",
    "student \"bakerst\" i listen `studenter`. Punktumet mellom `studenter` og `append` \n",
    "forteller at `append` forholder seg til listen studenter. På norsk sier vi *studenter sin \n",
    "append \"Leif\"*. Noe av det som skiller `append()` fra `len()` er at `append()` \n",
    "ikke er en uavhengig kommando, men forholder seg til listen som skal suppleres. \n",
    "Funksjonen `append()` er en **oppførsel** av variabeltypen `list`[^metoder]. På norsk leses \n",
    "linje 3 slik: *studenter sin append \"Leif\"*, hvor ordet *sin* uttrykker at \n",
    "`append()` er noe som anvendes på en bestemt liste, i dette tilfellet `studenter`. \n",
    "\n",
    "Når vi konstruerte `studenter` som en *Python*-liste, fikk vi med på kjøpet muligheten \n",
    "til å anvende `append()` (og andre nyttige funksjoner) på den. Andre funksjoner vi kan anvende på lister vil vi komme tilbake til i senere kapitler.\n",
    "\n",
    "[^metoder]: Slike funksjoner, som er en del av **oppførselen** til en variabeltype,  kalles av og til \"metoder\"."
   ]
  },
  {
   "cell_type": "code",
   "execution_count": 7,
   "id": "2705a1a1",
   "metadata": {},
   "outputs": [
    {
     "name": "stdout",
     "output_type": "stream",
     "text": [
      "lengden før append: 3\n",
      "lengden etter append: 4\n"
     ]
    },
    {
     "data": {
      "text/plain": [
       "['Arne', 'Gerd', 'Mona', 'Leif']"
      ]
     },
     "execution_count": 7,
     "metadata": {},
     "output_type": "execute_result"
    }
   ],
   "source": [
    "studenter = [ \"Arne\", \"Gerd\", \"Mona\" ]\n",
    "print(\"lengden før append:\", len(studenter))\n",
    "studenter.append(\"Leif\")\n",
    "print(\"lengden etter append:\", len(studenter))\n",
    "studenter"
   ]
  },
  {
   "cell_type": "markdown",
   "id": "c16bb700",
   "metadata": {},
   "source": [
    "Merk at ved å bare skrive `studenter`, kommer det en egen **output** som oppgir innholdet i denne variabelen. \n",
    "\n",
    "✍️ **Oppgave:** Kopier koden i cellen over inn i en celle i din egen notebook. Erstatt `studenter` med `print(studenter)` istedet. Kan du tenke deg til hvorfor det blir forskjellig?\n",
    "\n",
    "### Lister og løkker\n",
    "\n",
    "Den virkelige fordelen med både flerverdivariabler og løkker kommer til syne når disse brukes \n",
    "sammen. Se spesielt på linje 5 i eksempel under. `for student in studenter` gjør at Python, etter tur, besøker \n",
    "hver innførel i `studenter`, tilordner den til løpevariabelen `student`, og bruker `print(student)` \n",
    "til å skrive innførselverdien."
   ]
  },
  {
   "cell_type": "code",
   "execution_count": 8,
   "id": "b5d6a79e",
   "metadata": {},
   "outputs": [
    {
     "name": "stdout",
     "output_type": "stream",
     "text": [
      "3 studenter er registert i listen 'studenter'\n",
      "Arne\n",
      "Gerd\n",
      "Mona\n",
      "Disse var de 3 studentene våre.\n"
     ]
    }
   ],
   "source": [
    "studenter = [ \"Arne\" , \"Gerd\" , \"Mona\" ]\n",
    "antall_studenter = len(studenter)\n",
    "print(antall_studenter, \"studenter er registert i listen 'studenter'\")\n",
    "for student in studenter:\n",
    "    print(student)\n",
    "print(\"Disse var de\", antall_studenter, \"studentene våre.\")"
   ]
  },
  {
   "cell_type": "markdown",
   "id": "e22c2447",
   "metadata": {},
   "source": [
    "Hvis vi nå legger en ekstra student til listen, kommer programmet til å telle og \n",
    "liste riktig, uten at vi innfører andre forandringer enn å legge Vetle til listen."
   ]
  },
  {
   "cell_type": "code",
   "execution_count": 9,
   "id": "65105986",
   "metadata": {},
   "outputs": [
    {
     "name": "stdout",
     "output_type": "stream",
     "text": [
      "4 studenter er registert i listen 'studenter'\n",
      "Arne\n",
      "Gerd\n",
      "Mona\n",
      "Vetle\n",
      "Disse var de 4 studentene våre.\n"
     ]
    }
   ],
   "source": [
    "studenter = [ \"Arne\" , \"Gerd\" , \"Mona\", \"Vetle\" ]\n",
    "antall_studenter = len(studenter)\n",
    "print(antall_studenter, \"studenter er registert i listen 'studenter'\")\n",
    "for student in studenter:\n",
    "    print(student)\n",
    "print(\"Disse var de\", antall_studenter, \"studentene våre.\")"
   ]
  },
  {
   "cell_type": "markdown",
   "id": "d6900315",
   "metadata": {},
   "source": [
    "For å avslutte dette lille underavsnittet besøker vi igjen eksemplet med \n",
    "`for`-løkke fra tidligere i kapittelet. \n",
    "Den eneste endringen er at vi lagrer `range(1,5)` i en listevariabel, istedenfor å opprette \n",
    "den unavngitte listen[^range] \"on the fly\" i `for`-strukturen. \n",
    "variabelen `i` får her samme rolle som `student` i eksemplene ovenfor.\n",
    "\n",
    "[^range]: I uttrykket `for i in range(1,5):` lager `range(1,5)` en tallsekvens i \n",
    "minnet, uten å legge den i en variabel med navn, derfor omtales den som en *unavngitt sekvens*, vi \n",
    "bruker ikke orde \"liste\" om range'en fordi den teknisk sett ikke er en liste, selv om den funksjonelt \n",
    "gjør samme nytten her.\n",
    "\n",
    "<!-- Images/Lokker/rangeliste.png -->"
   ]
  },
  {
   "cell_type": "code",
   "execution_count": 10,
   "id": "8c58195a",
   "metadata": {},
   "outputs": [
    {
     "name": "stdout",
     "output_type": "stream",
     "text": [
      "i er nå lik 1\n",
      "i er nå lik 2\n",
      "i er nå lik 3\n",
      "i er nå lik 4\n",
      "Nå er løkken slutt\n"
     ]
    }
   ],
   "source": [
    "rangeliste = range(1,5)\n",
    "for i in rangeliste:\n",
    "    print(\"i er nå lik\", i)\n",
    "print(\"Nå er løkken slutt\")"
   ]
  },
  {
   "cell_type": "markdown",
   "id": "c7e26e2c",
   "metadata": {},
   "source": [
    "## Tupler\n",
    "\n",
    "Tenk på en excel-tabell vist som tabell under. Enhver av dataradene i den \n",
    "har tre celler, hver med sin fastlagte rolle. Rollen bestemmes av posisjonen i raden.\n",
    "\n",
    "| Vare      | Pris | Antall |\n",
    "| ----------- | ----------- | ----------- |\n",
    "| Fotballer     | 95.00 | 5 |\n",
    "| Shorts   | 89.00 | 12 |\n",
    "| Trøyer   | 74.00 | 15 |\n",
    "\n",
    "\n",
    "\n",
    "\n",
    "\n",
    "I eksemplet er den første cellen i hver rad av datatypen tekststreng (varenavnet), den andre et flyttall (stykkprisen) \n",
    "og det tredje et heltall (antallet). En slik **dataorganisering** (typisk også for en rad i en databasetabell) \n",
    "kaller vi en **tuppel**. I *Python* lager vi en tuppel med hjelp av parenteser.\n",
    "\n",
    "<!-- Images/Lokker/enkel_tuppel.png -->"
   ]
  },
  {
   "cell_type": "code",
   "execution_count": 11,
   "id": "5a8191ea",
   "metadata": {},
   "outputs": [
    {
     "name": "stdout",
     "output_type": "stream",
     "text": [
      "('Fotballer', 95.0, 5)\n"
     ]
    }
   ],
   "source": [
    "sportsvare=(\"Fotballer\", 95.0, 5)\n",
    "print(sportsvare)"
   ]
  },
  {
   "cell_type": "markdown",
   "id": "4944e699",
   "metadata": {},
   "source": [
    "Dersom vi ønsker å avlese en av verdiene, må vi angi dens posisjon i tuppelen (Se eksempel under). \n",
    "Som det meste annet i *Python* (og ellers i programmering), er den første telleposisjonen 0. 0,1,2 ... \n",
    "\n",
    "<!-- Images/Lokker/tuppel_pos.png -->"
   ]
  },
  {
   "cell_type": "code",
   "execution_count": 12,
   "id": "1e251225",
   "metadata": {},
   "outputs": [
    {
     "name": "stdout",
     "output_type": "stream",
     "text": [
      "Fotballer\n"
     ]
    }
   ],
   "source": [
    "print(sportsvare[0])"
   ]
  },
  {
   "cell_type": "markdown",
   "id": "901ed505",
   "metadata": {},
   "source": [
    "På denne måten ligner tuppelen en liste, men med et par forskjeller. Viktigst er at listeinnførsler er som \n",
    "oftest av samme datatype (ikke strengt nødvendig, men vanlig), innførslenes posisjon er i utgangspunktet \n",
    "tilfeldig men kan sorteres på forskjellige måter, og lengden på listen er variabel. Tupler har fast lengde, \n",
    "innførslene har ofte forskjellig datatype og deres posisjon er fast og rollebestemt. Det er for eksempel \n",
    "ikke mulig med *tuppel.append*, da det ikke er naturlig å endre en tuppel midt i et program. Mer enn det, \n",
    "en tuppel kan faktisk ikke forandres etter at den er laget!\n",
    "\n",
    "Se under hva som skjer når vi prøver: \n",
    "\n",
    "<!-- Images/Lokker/immutable.png -->"
   ]
  },
  {
   "cell_type": "code",
   "execution_count": 13,
   "id": "3d8dbb52",
   "metadata": {},
   "outputs": [
    {
     "ename": "TypeError",
     "evalue": "'tuple' object does not support item assignment",
     "output_type": "error",
     "traceback": [
      "\u001b[0;31m---------------------------------------------------------------------------\u001b[0m",
      "\u001b[0;31mTypeError\u001b[0m                                 Traceback (most recent call last)",
      "Cell \u001b[0;32mIn[13], line 1\u001b[0m\n\u001b[0;32m----> 1\u001b[0m sportsvare[\u001b[38;5;241m0\u001b[39m] \u001b[38;5;241m=\u001b[39m \u001b[38;5;124m\"\u001b[39m\u001b[38;5;124mHåndballer\u001b[39m\u001b[38;5;124m\"\u001b[39m\n",
      "\u001b[0;31mTypeError\u001b[0m: 'tuple' object does not support item assignment"
     ]
    }
   ],
   "source": [
    "sportsvare[0] = \"Håndballer\""
   ]
  },
  {
   "cell_type": "markdown",
   "id": "97162dd0",
   "metadata": {},
   "source": [
    "### Forskjellene mellom liste og tuppel\n",
    "\n",
    "Som det ble sagt i siste avsnitt, er den viktigste forskjellen mellom disse to datatypene, deres rolle. Herunder listes noen strukturelle forskejjer på dem:\n",
    "\n",
    "|   | Liste  | Tuppel |\n",
    "|:--|:------------------|:-------|\n",
    "| innførsel datatype | lik (vanligvis)       | forskjellig (vanligvis) |\n",
    "| innførsel posisjon | tilfeldig eller stigende/synkende sortert     |  fast, rollebasert |\n",
    "| lengde | variabel | fast  |\n",
    "| avgrensning | [] | ()  |\n",
    "\n",
    "Mens en tuppel beskriver ofte et objekt ved å liste *attributter*, (eksempelvis en vare for hvilken det angis navn, pris og antall) i en fast rekkefølge, er en liste gjerne en \"samling\" av ettellerannet, for eksempel en samling av varer. Dette ser vi et eksempel på i neste avsnitt.   \n",
    "\n",
    "## Lister av tupler\n",
    "\n",
    "Flerverdivariabler kan lagre (samlinger av) forskjellige typer verdier. De kan til og med lagre samlinger \n",
    "av flerverdivariabler. Lister av lister, dict'er av lister, osv. Alt går, alt etter hvor det passer. \n",
    "I neste eksempel representerer vi exceltabellen fra tidligere som en \n",
    "liste med tupler.  Denne bygger vi opp ved å bruke `append()`. Det ytre par parenteser hører til \n",
    "`append()` og det indre paret til tuppelstrukturen.  \n",
    "\n",
    "**Legg merke til at vi starter med en tom liste.** dette gjør vi ofte, for eksempel når vi bygger lister fra eksterne datakilder. Her må nye innførsler legges med `append()`. \n",
    "Vi legger til en ny tuppel til lista for hvert produkt.\n",
    "\n",
    "<!-- Images/Lokker/liste_med_tupler.png -->"
   ]
  },
  {
   "cell_type": "code",
   "execution_count": 14,
   "id": "d7498dc2",
   "metadata": {},
   "outputs": [
    {
     "name": "stdout",
     "output_type": "stream",
     "text": [
      "[('Fotballer', 95.0, 5), ('Shorts', 89.0, 12), ('Trøyer', 74.0, 15)]\n"
     ]
    }
   ],
   "source": [
    "sportsvarer = [] #Liste med tupler\n",
    "sportsvarer.append((\"Fotballer\", 95.0, 5))\n",
    "sportsvarer.append((\"Shorts\", 89.0, 12))\n",
    "sportsvarer.append((\"Trøyer\", 74.0, 15))\n",
    "print(sportsvarer)"
   ]
  },
  {
   "cell_type": "markdown",
   "id": "ff7cc830",
   "metadata": {},
   "source": [
    "✍️ **Oppgave:** Kopier inn koden i en celle i din egen notebook. Legg til en ny tuppel med varenavn, pris og antall. \n",
    "\n",
    "Eksemplet under bruker en løkke for å skrive ut verdiene i listen \n",
    "`sportsvarer`. Legg merke til at variabelen `vare` antar hver av tuplene etter tur, og kan da \n",
    "brukes til å hente ut innførselverdiene fra tuppelen. Det vil si at vi her også gir hver tuppel variabelnavnet `vare` i linje 1 når vi bruker `for`-løkken.\n",
    "\n",
    "<!-- Images/Lokker/skrive_liste_tupler.png -->"
   ]
  },
  {
   "cell_type": "code",
   "execution_count": 15,
   "id": "1d2360d4",
   "metadata": {},
   "outputs": [
    {
     "name": "stdout",
     "output_type": "stream",
     "text": [
      "Fotballer 95.0 5\n",
      "Shorts 89.0 12\n",
      "Trøyer 74.0 15\n"
     ]
    }
   ],
   "source": [
    "for vare in sportsvarer:\n",
    "    print(vare[0], vare[1], vare[2])"
   ]
  },
  {
   "cell_type": "markdown",
   "id": "1638b915",
   "metadata": {},
   "source": [
    "✍️ **Oppgave:** Kopier inn koden i en celle i din egen notebook. Endre `vare` til et annet navn. Gjør i tillegg en endring i print slik at du kun printer en vare. \n",
    "\n",
    "\n",
    "De neste to eksempler beregner den samlede prisen på sportsvarene. Til dette oppretter \n",
    "vi en **\"samlevariabel\"** ved navn `samletpris`, som skal \"akummulere\" innkjøpsprisen. For hver vare \n",
    "legges det til innkjøpsprisen basert på antall varer ganget med stykkprisen til denne varen. To versjoner \n",
    "av dette eksemplet vises, hvor forskjellen ligger i hvordan oppdateringen av summen uttrykkes. \n",
    "På linje 3 i den nederste cellen bruker vi operatoren `+=` (**addisjonstilordning**, engelsk: \n",
    "\"Addition assignment\") som betyr egentlig det samme som linje 3 i den øverste cellen. Vi adderer en ny verdi til verdien som allerede er i variabelen fra før.\n",
    "\n",
    "<!-- Images/Lokker/addition_assignment.png -->"
   ]
  },
  {
   "cell_type": "code",
   "execution_count": 16,
   "id": "cd8b438c",
   "metadata": {},
   "outputs": [
    {
     "data": {
      "text/plain": [
       "2653.0"
      ]
     },
     "execution_count": 16,
     "metadata": {},
     "output_type": "execute_result"
    }
   ],
   "source": [
    "samletpris = 0.0\n",
    "for vare in sportsvarer:\n",
    "    samletpris = samletpris + (vare[1] * vare[2])\n",
    "samletpris"
   ]
  },
  {
   "cell_type": "code",
   "execution_count": 17,
   "id": "4dd9889a",
   "metadata": {},
   "outputs": [
    {
     "data": {
      "text/plain": [
       "2653.0"
      ]
     },
     "execution_count": 17,
     "metadata": {},
     "output_type": "execute_result"
    }
   ],
   "source": [
    "samletpris = 0.0\n",
    "for vare in sportsvarer:\n",
    "    samletpris += (vare[1] * vare[2])\n",
    "samletpris"
   ]
  },
  {
   "cell_type": "markdown",
   "id": "09a088a7",
   "metadata": {},
   "source": [
    "## Dict'er\n",
    "**Dict'er** er em betegnelse for noe som egentlig har et lengre navn, nemlig **dictionaries**.\n",
    "Mens lister er tallindeksert og har en naturlig rekkefølge, kan dict'er indekseres på hva som helst, men typisk er tekststrenger. Dette gjør dict'en til en meget kraftig struktur som kan lagre mer enn èn type data om hver innførsel. Betrakt eksemplet under. Som du ser i første linje, markeres en dict med `{}`-klammer.\n",
    "\n",
    "<!-- Images/Lokker/dict.png -->"
   ]
  },
  {
   "cell_type": "code",
   "execution_count": 18,
   "id": "aa033d4b",
   "metadata": {},
   "outputs": [
    {
     "name": "stdout",
     "output_type": "stream",
     "text": [
      "Arne har fødselsdag 12. juni\n",
      "Gerd har fødselsdag 10. oktober\n",
      "Mona har fødselsdag 10. oktober\n",
      "Vetle har fødselsdag 12. juni\n"
     ]
    }
   ],
   "source": [
    "fodselsdager = {}\n",
    "fodselsdager[\"Arne\"] = \"12. juni\"\n",
    "fodselsdager[\"Gerd\"] = \"10. oktober\"\n",
    "fodselsdager[\"Mona\"] = \"10. oktober\"\n",
    "fodselsdager[\"Vetle\"] = \"12. juni\"\n",
    "for k,v in fodselsdager.items():\n",
    "    print(k, \"har fødselsdag\", v)"
   ]
  },
  {
   "cell_type": "markdown",
   "id": "ef4127f0",
   "metadata": {},
   "source": [
    "Hver av innførslene holder både studentens navn som **nøkkel** og vedkommendes fødselsdag som \n",
    "*verdi*. Derfor er det en konvensjon å bruke `k` (eng. *key*) og `v` (eng. *value*), som vi gjør på \n",
    "linje 6 (teknisk sett kunne vi brukt andre navn, og gjør det av og til når det passer). \n",
    "\n",
    "\n",
    "`items()` er en funksjon som er hendig å bruke med dict'er. \n",
    "Her gir `fodselsdager.items()` oss både nøkkelen og verdien i alle dictens innførsler, \n",
    "slik at `for` kan \"besøke\" dem etter tur, og `k` og `v` antar hhv. nøkkelen og \n",
    "verdien for hver besøkt innførsel for å gjøre noe med de.\n",
    "\n",
    "Hvis du er kjent med databaser, kan det hjelpe å tenke på indeksene som primærnøkler \n",
    "i en entitetstabell. Dette innebærer, for både lister og dict'er, at indeksen (også kalt \n",
    "nøkkelen) er unik.  \n",
    "\n",
    "✍️ **Oppgave:** Kopier inn koden i en celle i din egen notebook. Legg inn ditt eget navn og din egen fødselsdag i denne dicten. Kjør cellen.  \n",
    "\n",
    "## Flerverdivariabler oppsummert\n",
    "   \n",
    "\n",
    "Flerverdivariabler er altså variabler som har ett navn med kan få flere verdier. \n",
    "De tre typene er lister, tupler og dicter.\n",
    "\n",
    "| Tegn  | Navn | Beskrivelse |\n",
    "|:--|:------------------|:-------|\n",
    "| `[]` | Liste        | en rekkefølge av innførsler , som oftest av samme type, og som typisk endrer størrelse (og gjerne rekkefølge) i løpet av et programs levetid, `[innførsel0, innførsel1, innførsel2, osv.]` |\n",
    "| `()` | Tuppel     |  en rekkefølge av innførsler hvor innførslene typisk har faste roller og gjerne annerledes datatyper, for eksempel `(tekst0, heltall1, flyttall2, tekst3, osv.)`.  |\n",
    "| `{}` | Dict | En dict er en mengde innførsler hvor nøklene er unike. `{nøkkel_a:verdi_a, nøkkel_1:verdi_1, nøkkel_x:verdi_x, osv.}`  |"
   ]
  }
 ],
 "metadata": {
  "jupytext": {
   "formats": "md:myst",
   "text_representation": {
    "extension": ".md",
    "format_name": "myst",
    "format_version": 0.13,
    "jupytext_version": "1.11.5"
   }
  },
  "kernelspec": {
   "display_name": "Python 3",
   "language": "python",
   "name": "python3"
  },
  "language_info": {
   "codemirror_mode": {
    "name": "ipython",
    "version": 3
   },
   "file_extension": ".py",
   "mimetype": "text/x-python",
   "name": "python",
   "nbconvert_exporter": "python",
   "pygments_lexer": "ipython3",
   "version": "3.11.4"
  },
  "mystnb": {
   "number_source_lines": true
  },
  "source_map": [
   15,
   62,
   68,
   102,
   120,
   128,
   133,
   182,
   185,
   190,
   193,
   214,
   218,
   241,
   247,
   260,
   267,
   272,
   279,
   294,
   299,
   322,
   325,
   332,
   334,
   347,
   349,
   376,
   382,
   392,
   395,
   409,
   416,
   421,
   430,
   438
  ]
 },
 "nbformat": 4,
 "nbformat_minor": 5
}