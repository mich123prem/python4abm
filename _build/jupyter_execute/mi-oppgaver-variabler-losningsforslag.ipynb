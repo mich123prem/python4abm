{
 "cells": [
  {
   "cell_type": "markdown",
   "id": "3965dbf3",
   "metadata": {},
   "source": [
    "# Noen oppgaver om variabler - Løsningsforslag\n",
    "\n",
    "NB oppgavene kan løses på mange måter!"
   ]
  },
  {
   "cell_type": "markdown",
   "id": "7dba1bd2",
   "metadata": {},
   "source": [
    "## 1. Din hjemmekommune"
   ]
  },
  {
   "cell_type": "markdown",
   "id": "f5bbe42a",
   "metadata": {},
   "source": [
    "### 1.1 Tilordning av direkte verdier\n",
    "\n",
    "Opprett noen variabler for kommune du var født i. Verdier finner du i Wikipedia.\n",
    "\n",
    "* kommunenavn\n",
    "* fylke\n",
    "* befolkningstall\n",
    "* område"
   ]
  },
  {
   "cell_type": "code",
   "execution_count": 1,
   "id": "4d1906ca",
   "metadata": {},
   "outputs": [],
   "source": [
    "name = 'Moss'\n",
    "county = 'Viken'\n",
    "pop = 35000\n",
    "area = 137.77"
   ]
  },
  {
   "cell_type": "markdown",
   "id": "5798cfeb",
   "metadata": {},
   "source": [
    "### 1.2 Hva er datatypene til variablene?\n",
    "\n",
    "Her kan vi bruke Pythons ferdigfunksjon `type()`."
   ]
  },
  {
   "cell_type": "code",
   "execution_count": 2,
   "id": "04a0049a",
   "metadata": {},
   "outputs": [
    {
     "name": "stdout",
     "output_type": "stream",
     "text": [
      "<class 'str'>\n"
     ]
    }
   ],
   "source": [
    "# 'str' vil si tekststreng\n",
    "\n",
    "print(type(name))"
   ]
  },
  {
   "cell_type": "code",
   "execution_count": 3,
   "id": "8d86f8f4",
   "metadata": {},
   "outputs": [
    {
     "name": "stdout",
     "output_type": "stream",
     "text": [
      "<class 'int'>\n"
     ]
    }
   ],
   "source": [
    "# 'int' vil si heltall\n",
    "\n",
    "print(type(pop))"
   ]
  },
  {
   "cell_type": "code",
   "execution_count": 4,
   "id": "dafc4263",
   "metadata": {},
   "outputs": [
    {
     "name": "stdout",
     "output_type": "stream",
     "text": [
      "<class 'float'>\n"
     ]
    }
   ],
   "source": [
    "# 'float' vil si desimaltall\n",
    "\n",
    "print(type(area))"
   ]
  },
  {
   "cell_type": "markdown",
   "id": "1e465210",
   "metadata": {},
   "source": [
    "### 1.3 Skriv ut variablene"
   ]
  },
  {
   "cell_type": "code",
   "execution_count": 5,
   "id": "c0965b92",
   "metadata": {},
   "outputs": [
    {
     "name": "stdout",
     "output_type": "stream",
     "text": [
      "Moss\n",
      "Viken\n",
      "35000\n",
      "137.77\n"
     ]
    }
   ],
   "source": [
    "print(name)\n",
    "print(county)\n",
    "print(pop)\n",
    "print(area)"
   ]
  },
  {
   "cell_type": "markdown",
   "id": "4ca2cf05",
   "metadata": {},
   "source": [
    "### 1.4 Skriv ut variablene med fortekster\n",
    "\n",
    "F.eks. `print('Dato:', dato)`. Her skriver vi verdien fra variabelen _data_ etter forteksten _Dato:_."
   ]
  },
  {
   "cell_type": "code",
   "execution_count": 6,
   "id": "00e33d97",
   "metadata": {},
   "outputs": [
    {
     "name": "stdout",
     "output_type": "stream",
     "text": [
      "Kommunenavn: Moss\n",
      "Fylke: Viken\n",
      "Befolkningstall: 35000\n",
      "Område: 137.77\n"
     ]
    }
   ],
   "source": [
    "print('Kommunenavn:', name)\n",
    "print('Fylke:', county)\n",
    "print('Befolkningstall:', pop)\n",
    "print('Område:', area)"
   ]
  },
  {
   "cell_type": "markdown",
   "id": "c102f670",
   "metadata": {},
   "source": [
    "### 1.5 Skriv ut variabler som en del av en setning\n",
    "\n",
    "Skriv ut 'Jeg valgt _kommune_ som ligger i _fylke_.'"
   ]
  },
  {
   "cell_type": "code",
   "execution_count": 7,
   "id": "e44235f5",
   "metadata": {},
   "outputs": [
    {
     "name": "stdout",
     "output_type": "stream",
     "text": [
      "Jeg valgt Moss som ligger i Viken .\n"
     ]
    }
   ],
   "source": [
    "print('Jeg valgt', name, 'som ligger i', county, '.')"
   ]
  },
  {
   "cell_type": "code",
   "execution_count": 8,
   "id": "2c4fdd60",
   "metadata": {},
   "outputs": [
    {
     "name": "stdout",
     "output_type": "stream",
     "text": [
      "Jeg valgt Moss som ligger i Viken.\n"
     ]
    }
   ],
   "source": [
    "# Alternativløsning med _concatenation_\n",
    "\n",
    "text = 'Jeg valgt ' + name + ' som ligger i ' + county + '.'\n",
    "\n",
    "print(text)"
   ]
  },
  {
   "cell_type": "markdown",
   "id": "1ef7a3db",
   "metadata": {},
   "source": [
    "## 2. Billettautomat\n",
    "\n",
    "Tenk at vi skal lage kode for en billettautomat for togene på Østfoldsbanen."
   ]
  },
  {
   "cell_type": "markdown",
   "id": "bc6ec4f9",
   "metadata": {},
   "source": [
    "### 2.1 Finn en tog stasjon. Finn prisen for en billett til Oslo. Opprett variabler og tilordner verdier"
   ]
  },
  {
   "cell_type": "code",
   "execution_count": 9,
   "id": "7fdcce2e",
   "metadata": {},
   "outputs": [],
   "source": [
    "station = 'Moss'\n",
    "adult_price = 190"
   ]
  },
  {
   "cell_type": "markdown",
   "id": "950887c3",
   "metadata": {},
   "source": [
    "### 2.2 Barn reiser for halv pris. Bruk en aritmetisk operasjon for å tilordne prisen på barnebilletter"
   ]
  },
  {
   "cell_type": "code",
   "execution_count": 10,
   "id": "4f534f04",
   "metadata": {},
   "outputs": [],
   "source": [
    "child_price = adult_price / 2"
   ]
  },
  {
   "cell_type": "markdown",
   "id": "22615f70",
   "metadata": {},
   "source": [
    "### 2.3 Reisefølget består av 2 voksne og 3 barn. Regn ut totalprisen for billettene og tilordne det til en variabel. Skriv ut resultatet."
   ]
  },
  {
   "cell_type": "code",
   "execution_count": 11,
   "id": "ae945f59",
   "metadata": {},
   "outputs": [
    {
     "name": "stdout",
     "output_type": "stream",
     "text": [
      "Beløp: 665.0 kr.\n"
     ]
    }
   ],
   "source": [
    "total_price = (2 * adult_price) + (3 * child_price)\n",
    "\n",
    "print('Beløp:', total_price, 'kr.')"
   ]
  },
  {
   "cell_type": "code",
   "execution_count": null,
   "id": "4a1321b3",
   "metadata": {},
   "outputs": [],
   "source": []
  }
 ],
 "metadata": {
  "kernelspec": {
   "display_name": "Python 3 (ipykernel)",
   "language": "python",
   "name": "python3"
  },
  "language_info": {
   "codemirror_mode": {
    "name": "ipython",
    "version": 3
   },
   "file_extension": ".py",
   "mimetype": "text/x-python",
   "name": "python",
   "nbconvert_exporter": "python",
   "pygments_lexer": "ipython3",
   "version": "3.11.4"
  }
 },
 "nbformat": 4,
 "nbformat_minor": 5
}