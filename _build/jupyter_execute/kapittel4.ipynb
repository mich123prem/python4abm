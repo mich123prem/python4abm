{
 "cells": [
  {
   "cell_type": "markdown",
   "id": "27b5199b",
   "metadata": {},
   "source": [
    "# 4. Betinget programmering \n",
    "I dette kapitlet skal vi se litt nærmere på hvordan man ved programmering kan få **output** som er valg foretatt av dataprogrammet på bakgrunn av at du ber om noe (\"gir input\"). Å forstå hvordan dette skjer gjør det lettere å forholde seg til større datasett der man er ute etter bestemte utvalg som ikke så lett kan sees og hentes ut manuelt. I dette kapitlet lærer du altså enda et sett med grunnstener. Nå går vi fra datatyper til **operatorer**.\n",
    "\n",
    "## Om et dataprograms oppførsel\n",
    "\n",
    "Vi har sett at dataprogrammer kan betraktes som \"levende\" vesener\n",
    "(anførselstegnene er viktige!). Et program kjører linje etter linje,\n",
    "og hver linje kan forandre på programmets\n",
    "status (verdiene i programmets variabler).\n",
    "Dersom linje 5 er en kopi av linje\n",
    "3, er det ikke sikkert at begge linjer har\n",
    "nøyaktig samme utfall. Sannsynligvis ikke. \n",
    "I eksempel under oppstår det\n",
    "forskjellige verdier i variabelen `i` (hhv. 2 og 3), etter at hver av de\n",
    "to identiske linjene, 2 og 4, er kjørt.\n",
    "\n",
    "<!-- Images/Betinget/linjer_kopi.png -->"
   ]
  },
  {
   "cell_type": "code",
   "execution_count": 1,
   "id": "1c0f5b97",
   "metadata": {},
   "outputs": [
    {
     "name": "stdout",
     "output_type": "stream",
     "text": [
      "linje 3: 2\n",
      "linje 5: 3\n"
     ]
    }
   ],
   "source": [
    "i = 1\n",
    "i += 1\n",
    "print(\"linje 3:\", i)\n",
    "i += 1\n",
    "print(\"linje 5:\", i)"
   ]
  },
  {
   "cell_type": "markdown",
   "id": "14a9d101",
   "metadata": {},
   "source": [
    "Det er heller ikke slik at våre programmer\n",
    "behøver å oppføre seg likt hver gang de kjøres. Det\n",
    "avhenger av omstendigheter som programmet er ment å reagere på, og\n",
    "det er dette som gjør programmer så nyttige. \n",
    "\n",
    "    \n",
    "### Tenker datamaskiner?\n",
    "\n",
    "Nei. Datamaskiner tenker ikke. Allikevel er programmene som kjøres\n",
    "på dem ofte meget avanserte. Hemmeligheten er at våre programmer\n",
    "foretar *beslutninger* basert på valgalternativer. Disse\n",
    "valgalternativene er ofte uttrykt ved **variabelverdier**. Alle\n",
    "programmeringsspråk, *Python* inkludert, er utstyrt med\n",
    "**beslutningsstrukturer**. Med disse strukturene kan\n",
    "programmet \"velge\" èn av flere kjøreveier.\n",
    "\n",
    "Å kjøre linje for linje er den enkleste formen for beslutningsstruktur. Men i hver linje kan vi legge til veivalg, til og med valg som gjør at avlesingen går tilbake til linje 1 igjen. Det er dette vi skal gi en introduksjon til her. \n",
    "\n",
    "<!-- Doublebox -->\n",
    "\n",
    "⚠️ **Merk!** Dataprogrammer \"tenker\" ikke.\n",
    "    De tar beslutninger (foretar valg), basert på klart formulerte betingelser.\n",
    "\n",
    "\n",
    "## Enkle logiske uttrykk og beslutningsstrukturer\n",
    "\n",
    "### Logiske uttrykk\n",
    "\n",
    "Under ser vi et kort program. \n",
    "Uttrykket `i == 0` på linje 2 kaller vi et **logisk uttrykk**. Dette er noe litt annet enn å tilordne en variabel en verdi. \n",
    "På norsk lyder den  `i` *er lik* `0`. Dette uttrykket kan ha èn av to verdier, \n",
    "`True` eller `False`. \n",
    "\n",
    "Legg merke til `=` på linje 1  og `==` på linje 2. \n",
    "`=` (`i` *settes lik* `0`) er en **tilordning**, og forandrer variabelens \n",
    "verdi (dersom den ikke var `0` fra før). `==` er et sammenligningsuttrykk, \n",
    "og sjekker at verdiene på høyre og venstre side er like, *uten å forandre verdien*. \n",
    "*Python* har flere slike sammenligningsuttrykk, og vi ser på disse litt senere.\n",
    "\n",
    "<!-- Images/Betinget/logisk1.png -->"
   ]
  },
  {
   "cell_type": "code",
   "execution_count": 2,
   "id": "6e95be72",
   "metadata": {},
   "outputs": [
    {
     "name": "stdout",
     "output_type": "stream",
     "text": [
      "True\n"
     ]
    }
   ],
   "source": [
    "i = 0\n",
    "print(i == 0)"
   ]
  },
  {
   "cell_type": "code",
   "execution_count": 3,
   "id": "01755b17",
   "metadata": {},
   "outputs": [
    {
     "name": "stdout",
     "output_type": "stream",
     "text": [
      "False\n"
     ]
    }
   ],
   "source": [
    "print(i == 1)"
   ]
  },
  {
   "cell_type": "markdown",
   "id": "16b769b6",
   "metadata": {},
   "source": [
    "### if-testen\n",
    "\n",
    "If-testen er den mest grunnleggende beslutningsstrukturen i både *Python* og\n",
    "de fleste andre programmeringsspråk. La oss starte med et enkelt eksempel. \n",
    "Under ser vi et kort program. Linje 2, `if i == 0:` er en test, et spørsmål \n",
    "til systemet. Vi spør \"om `i` er lik `0`\", og videre ber vi om at den printer noe hvis det er riktig. Dersom det \n",
    "logiske uttrykket er `True`, kjøres line 3, hvis `False` kjøres den ikke. \n",
    "\n",
    "<!-- Images/Betinget/enkelif1.png -->"
   ]
  },
  {
   "cell_type": "code",
   "execution_count": 4,
   "id": "15da84f7",
   "metadata": {},
   "outputs": [
    {
     "name": "stdout",
     "output_type": "stream",
     "text": [
      "i er 0!\n",
      "Takk og farvel.\n"
     ]
    }
   ],
   "source": [
    "i = 0\n",
    "if i == 0:\n",
    "    print(\"i er 0!\")\n",
    "print(\"Takk og farvel.\")"
   ]
  },
  {
   "cell_type": "markdown",
   "id": "252c0a64",
   "metadata": {},
   "source": [
    "I neste eksempel ser vi en kjøring hvor `i` ble satt til \n",
    "`1`, og linje 3 derfor \"hoppes over\". Legg merke til at uttrykket `i == 0`, \n",
    "som bare er et testuttrykk ikke forandrer verdien i `i`, i motsetning til \n",
    "`i = 0` som er en tilordning som kan forandre verdien.\n",
    "\n",
    "<!-- Images/Betinget/enkelif2.png -->"
   ]
  },
  {
   "cell_type": "code",
   "execution_count": 5,
   "id": "94982a13",
   "metadata": {},
   "outputs": [
    {
     "name": "stdout",
     "output_type": "stream",
     "text": [
      "Takk og farvel.\n"
     ]
    }
   ],
   "source": [
    "i = 1\n",
    "if i == 0:\n",
    "    print(\"i er 0!\")\n",
    "print(\"Takk og farvel.\")"
   ]
  },
  {
   "cell_type": "markdown",
   "id": "d397383b",
   "metadata": {},
   "source": [
    "✍️ **Oppgave:** Kopier inn koden i cellen over i en celle i din egen notebook. Gjør en endring hvor du setter `if i == 1:` på linje 2. Kjør cellen. \n",
    "\n",
    "\n",
    "### Bruk av kolon (:) og innrykk\n",
    "\n",
    "I motsetning til de fleste andre programmeringsspråk, er programstrukturen i *Python* \n",
    "uttrykt i programkodens[^programkode]  oppsett (engelsk: \"layout\"), og nivået av en gruppe kodelinjer \n",
    "bestemmes av mengden innrykk. Under ser du at kodelinjene 3, 4 og 5, som er rykket inn i forhold til if-testen, \n",
    "kjøres eller hoppes over samlet.\n",
    "\n",
    "[^programkode]: \"Programkode\" eller \"kode\" brukes ofte når man snakker om programmets tekst.\n",
    "\n",
    "<!-- Images/Betinget/innrykktrue.png -->"
   ]
  },
  {
   "cell_type": "code",
   "execution_count": 6,
   "id": "a433dd6f",
   "metadata": {},
   "outputs": [
    {
     "name": "stdout",
     "output_type": "stream",
     "text": [
      "i\n",
      "er\n",
      "0!\n",
      "Takk og farvel.\n"
     ]
    }
   ],
   "source": [
    "i = 0\n",
    "if i == 0:\n",
    "    print(\"i\")\n",
    "    print(\"er\")\n",
    "    print(\"0!\")\n",
    "print(\"Takk og farvel.\")"
   ]
  },
  {
   "cell_type": "markdown",
   "id": "c1164bab",
   "metadata": {},
   "source": [
    "<!-- Images/Betinget/innrykkfalse.png -->"
   ]
  },
  {
   "cell_type": "code",
   "execution_count": 7,
   "id": "979fbc3e",
   "metadata": {},
   "outputs": [
    {
     "name": "stdout",
     "output_type": "stream",
     "text": [
      "Takk og farvel.\n"
     ]
    }
   ],
   "source": [
    "i = 1\n",
    "if i == 0:\n",
    "    print(\"i\")\n",
    "    print(\"er\")\n",
    "    print(\"0!\")\n",
    "print(\"Takk og farvel.\")"
   ]
  },
  {
   "cell_type": "markdown",
   "id": "ce1926e9",
   "metadata": {},
   "source": [
    "⚠️ **Merk!** Kolon og innrykk *må* være på plass. Kombinasjonen gjør at akkurat de print-operasjonene *kun* er koblet til `if`-spørsmålet i linjen over.  Legg merke til følgende feilsituasjonen:"
   ]
  },
  {
   "cell_type": "code",
   "execution_count": 8,
   "id": "daf877bc",
   "metadata": {},
   "outputs": [
    {
     "ename": "IndentationError",
     "evalue": "expected an indented block after 'if' statement on line 2 (1893230000.py, line 3)",
     "output_type": "error",
     "traceback": [
      "\u001b[0;36m  Cell \u001b[0;32mIn[8], line 3\u001b[0;36m\u001b[0m\n\u001b[0;31m    print(\"i\")\u001b[0m\n\u001b[0m    ^\u001b[0m\n\u001b[0;31mIndentationError\u001b[0m\u001b[0;31m:\u001b[0m expected an indented block after 'if' statement on line 2\n"
     ]
    }
   ],
   "source": [
    "i = 1\n",
    "if i == 0:\n",
    "print(\"i\")\n",
    "    print(\"er\")\n",
    "    print(\"0!\")\n",
    "print(\"Takk og farvel.\")"
   ]
  },
  {
   "cell_type": "markdown",
   "id": "a8f97ac7",
   "metadata": {},
   "source": [
    "Prøv gjerne å fjerne eller kolon for å se hva som da skjer.\n",
    "     \n",
    "### Logiske uttrykk og testoperatorer\n",
    "\n",
    "Som tidligere nevnt er et logisk uttrykk et spørsmål,\n",
    "som besvares med `True` eller\n",
    "`False`. Et logisk uttrykk kan anta forskjellige former, og\n",
    "tester ofte på variabelverdier. Variabelverdier blir til på\n",
    "forskjellige måter. De kan hentes fra databaser eller filer, eller de kan\n",
    "settes av programmet under kjøring. I eksemplene foran har vi sett\n",
    "logiske uttrykk som tester om en variabel har en bestemt verdi (`i == 1`).\n",
    "\n",
    "Disse uttrykkene tester på tallverdier, men både tall- og tekstvariabler kan\n",
    "brukes i logiske uttrykk. Tegn som `==` og `>` kalles ofte for **testoperatorer**.\n",
    "\n",
    "Nedenfor tester vi om verdien i en variabel er større enn 5 eller ikke:"
   ]
  },
  {
   "cell_type": "code",
   "execution_count": 9,
   "id": "3e1c4ac1",
   "metadata": {},
   "outputs": [
    {
     "name": "stdout",
     "output_type": "stream",
     "text": [
      "i er større enn 5!\n",
      "Takk og farvel.\n"
     ]
    }
   ],
   "source": [
    "i = 6\n",
    "if i > 5:\n",
    "    print(\"i er større enn 5!\")\n",
    "print(\"Takk og farvel.\")"
   ]
  },
  {
   "cell_type": "markdown",
   "id": "c5c64fc6",
   "metadata": {},
   "source": [
    "Kort og godt er vi ute etter å vite om noe stemmer eller ikke, gjerne fordi det er vanskelig å vite ved å bare se på datasettet med det blotte øyet. Denne typen programmering kan vi også bruke hvis vi ønsker å ta ut noen spesifikke rader av et datasett for å lage et nytt datasett. Dette er noe vi vil komme tilbake til i *del III* av denne boka. \n",
    "\n",
    "<!-- doublebox -->\n",
    "⚠️ **Merk!** En beslutningsstruktur bruker en betingelse, uttrykt ved et logisk uttrykk,\n",
    "for å velge en bestemt kjørevei. Logiske uttrykk bruker variabler og\n",
    "testoperatorer.\n",
    "\n",
    "*Python* støtter flere testoperatorer som kan brukes i logiske uttrykk.\n",
    "Nedenfor vises varianter av logiske uttrykk som bruker forskjellige\n",
    "testoperatorer.\n",
    "\n",
    "| Testoperator      | Beskrivelse | Eksempler |\n",
    "| ----------- | ----------- | ----------- |\n",
    "| `==`     | om en variabelverdi er lik en bestemt verdi |  A. `tall == 0` er sant (har verdien `True`) dersom `tall` har verdien 0 i testøyeblikket <br><br> B. `student == \"ja\"` er sant hvis variabelen `student` har tekstverdien `ja` |\n",
    "| `==`    | om en variabelverdi er lik en annen variabelverdi |   `tall1 == tall2` er sant hvis begge variabler har samme verdi |\n",
    "| `<`     | om en variabelverdi er mindre enn en annen verdi |  A. `tall1 < 5`  er sant hvis verdien i `tall1` er eksempelvis `-1, 0, 4, 4.9.`, Usant hvis `tall1` har verdien `5, 6, 1000` e.l. <br><br> B. `tall2 < tall3` er sant når verdien i `tall2` er mindre enn verdien i `tall3` |\n",
    "| `>`      | om en variabelverdi er større enn en annen |  A. `tall1 > 7` er sant når `tall1` er eksempelvis `10, 40, 1000000`. Usant når `tall1` har verdien `7, 6, 0` e.l. <br><br> B. `tall2 > tall1` er sant når verdien i `tall2` er større enn verdien i `tall1` |\n",
    "| `<=`     | om en variabelverdi er mindre enn eller lik en annen |   `var3 <= 1` er sant hvis `var3` er eksempelvis `-1, 0, 1` |\n",
    "| `>=`      | om en variabelverdi er større enn eller lik en annen |  `var1 >= 0` er sant når `var1` er eksempelvis `1, 5, 9` sant også når `var1` har verdien `0`. Usant for negative verdier i `var1` |\n",
    "\n",
    "\n",
    "\n",
    "\n",
    "## Beslutningsstrukturer for flere valgalternativer\n",
    "\n",
    "`If`-testen er en enkel struktur som bestemmer om et program skal\n",
    "eller ikke skal utføre en sekvens med handlinger. I mer kompliserte\n",
    "situasjoner foreligger det flere valgalternativer. Vi snakker da om\n",
    "en **forgrening**: programmet har flere mulige *grener*, og\n",
    "kan utføre èn av disse.\n",
    "\n",
    "\n",
    "### If - else strukturen\n",
    "\n",
    "Ofte trenger programmet å vite eksplisitt hva det skal gjøre også\n",
    "dersom det logiske uttrykket er usant (har verdien `False`). \n",
    "Dette ordnes med en\n",
    "else-gren som settes rett etter if-grenen. I eksempelet under ser \n",
    "man at programmet velger om det skal kjøre linje 3 eller 5 basert på verdien i \n",
    "variabelen `i`.  \n",
    "\n",
    "<!-- Images/Betinget/ifelseif.png -->"
   ]
  },
  {
   "cell_type": "code",
   "execution_count": 10,
   "id": "df500f8e",
   "metadata": {},
   "outputs": [
    {
     "name": "stdout",
     "output_type": "stream",
     "text": [
      "i er 0!\n",
      "Takk og farvel.\n"
     ]
    }
   ],
   "source": [
    "i = 0\n",
    "if i == 0:\n",
    "    print(\"i er 0!\")\n",
    "else:\n",
    "    print(\"i er ikke 0!\")\n",
    "print(\"Takk og farvel.\")"
   ]
  },
  {
   "cell_type": "markdown",
   "id": "9ff6ad32",
   "metadata": {},
   "source": [
    "<!-- Images/Betinget/ifelseelse.png -->"
   ]
  },
  {
   "cell_type": "code",
   "execution_count": 11,
   "id": "5bf2ad5e",
   "metadata": {},
   "outputs": [
    {
     "name": "stdout",
     "output_type": "stream",
     "text": [
      "i er ikke 0!\n",
      "Takk og farvel.\n"
     ]
    }
   ],
   "source": [
    "i = 1\n",
    "if i == 0:\n",
    "    print(\"i er 0!\")\n",
    "else:\n",
    "    print(\"i er ikke 0!\")\n",
    "print(\"Takk og farvel.\")"
   ]
  },
  {
   "cell_type": "markdown",
   "id": "d70acef6",
   "metadata": {},
   "source": [
    "### Teste på motsatt (negert) betingelse: !=\n",
    "\n",
    "Noen applikasjoner krever at vi utfører en handling bare hvis en\n",
    "betingelse *ikke* er oppfylt. Dette kan i og for seg gjøres med en\n",
    "else-gren, men det er kanskje mer elegant å\n",
    "uttrykke betingelsen omvendt, med en **negeringsoperator**. `!=` leses \n",
    "på norsk *er ulik*. \n",
    "Se eksempel under.\n",
    "\n",
    "<!-- Images/Betinget/negert.png -->"
   ]
  },
  {
   "cell_type": "code",
   "execution_count": 12,
   "id": "d02ba6f7",
   "metadata": {},
   "outputs": [
    {
     "name": "stdout",
     "output_type": "stream",
     "text": [
      "Det er sant at du ikke heter Jens?\n",
      "Ja, det er sant.\n"
     ]
    }
   ],
   "source": [
    "navn = \"Michael\"\n",
    "print(\"Det er sant at du ikke heter Jens?\")\n",
    "if navn != \"Jens\":\n",
    "    print(\"Ja, det er sant.\")"
   ]
  },
  {
   "cell_type": "markdown",
   "id": "20d6f346",
   "metadata": {},
   "source": [
    "### if-elif-else-strukturen\n",
    "\n",
    "`elif` kan brukes når vi skal\n",
    "ha mer enn to grener i en betingelse. Med\n",
    "`if-elif-else` -strukturen kan vi tilrettelegge for håndtering av\n",
    "flere mulige utfall. \n",
    "\n",
    "I eksempel under er det lagt opp til tre\n",
    "alternativer. En `if`-gren og en `elif`-gren som oppgir to distinkte\n",
    "alternativer, og en `else`-gren som angir  **standardhandlingen** (engelsk: \"default\"), altså \n",
    "hvis ingen av de angitte betingelsene er oppfylt. Vi kan bruke så mange\n",
    "`elif`-grener vi bare ønsker.\n",
    "\n",
    "<!-- Images/Betinget/tregjensidige.png -->"
   ]
  },
  {
   "cell_type": "code",
   "execution_count": 13,
   "id": "c3431e0e",
   "metadata": {},
   "outputs": [
    {
     "name": "stdout",
     "output_type": "stream",
     "text": [
      "pris = 200\n"
     ]
    }
   ],
   "source": [
    "kategori = \"ungdom\"\n",
    "if kategori == \"ungdom\":\n",
    "    pris = 200\n",
    "elif kategori == \"senior\":\n",
    "    pris = 250\n",
    "else:\n",
    "    pris = 500\n",
    "print(\"pris =\", pris)"
   ]
  },
  {
   "cell_type": "markdown",
   "id": "8ad8ebc4",
   "metadata": {},
   "source": [
    "## Nøsting av tester\n",
    "\n",
    "Med **Nøsting** (engelsk: \"nesting\") av tester menes at vi utfører en test\n",
    "bare hvis det logiske uttrykket til en annen test har et visst utfall.\n",
    "\n",
    "Vi\n",
    "*nøster inn* èn betinget struktur som en gren av en annen struktur. \n",
    "I eksemplet under, utgjør linjene 3-6 if-grenen (linje 2). \n",
    "If-testen på linje 3 blir ikke kjørt hvis verdien i `barnealder` er 2 eller mindre.\n",
    "Merk deg også bruken av kolon etterfulgt 4-blank-innrykk[^tab] hver gang et nytt \n",
    "nivå innføres (linje 2-3, 3-4, 5-6, 7-8).\n",
    "\n",
    "[^tab]: I *Jupyter Notebooks* får vi 4-blanke når vi trykker TAB-tasten\n",
    "\n",
    "<!--Images/Betinget/nosting.png -->"
   ]
  },
  {
   "cell_type": "code",
   "execution_count": 14,
   "id": "907cb971",
   "metadata": {},
   "outputs": [
    {
     "name": "stdout",
     "output_type": "stream",
     "text": [
      "Barnet går i barnehagen.\n"
     ]
    }
   ],
   "source": [
    "barnealder = 5\n",
    "if barnealder > 2:\n",
    "    if barnealder < 6:\n",
    "        print(\"Barnet går i barnehagen.\")\n",
    "    else:\n",
    "        print(\"Barnet går på skolen.\")\n",
    "else:\n",
    "    print(\"Barnet er for ungt.\")"
   ]
  },
  {
   "cell_type": "markdown",
   "id": "8599aa1f",
   "metadata": {},
   "source": [
    "✍️ **Oppgave:** Prøv å skrive om programkoden i if-elif-else-eksemplet\n",
    "som en nøstet struktur.\n",
    "\n",
    "<!-- David: Hva med en oppgave om barnealder = 30? -->\n",
    "\n",
    "## Sammensatte logiske uttrykk\n",
    "\n",
    "Av og til trenger vi å uttrykke mer kompliserte betingelser enn en\n",
    "enkel test kan uttrykke. Stort sett er det mulig å løse disse med\n",
    "de nøstede strukturene omtalt ovenfor, men dette kan resultere i\n",
    "lang og rotete programkode. Sammensatte logiske uttrykk,\n",
    "som bruker logiske kombinasjoner, er ofte mer elegante og resulterer\n",
    "i kortere, mer fokusert kode. Vi ser på to kombinasjoner:\n",
    "\n",
    "* `and` (logisk OG): to eller flere betingelser som skal stemme samtidig\n",
    "* `or` (logisk ELLER): minst én av to eller flere betingelser skal stemme.\n",
    "\n",
    "Disse kombinasjonene kan være byggesteiner i sammensatte logiske\n",
    "uttrykk. Her ser vi på noen eksempler hvor én forekomst av en\n",
    "logisk operasjon utgjør testen.\n",
    "\n",
    "### Logisk OG (and)\n",
    "\n",
    "Se eksempelet under. Dersom hele det kombinerte logiske\n",
    "uttrykket i `if`-grenen skal være sant, kreves det at begge\n",
    "deluttrykk er sanne *samtidig*. Hele det logiske uttrykk på linje 3 er sant \n",
    "hvis alderen er større enn 67 *samtidig som* kjønnet er kvinne.  \n",
    "\n",
    "<!-- Images/Betinget/logiskog.png -->"
   ]
  },
  {
   "cell_type": "code",
   "execution_count": 15,
   "id": "7f6d37af",
   "metadata": {},
   "outputs": [],
   "source": [
    "alder = 65\n",
    "kjonn = \"kvinne\"\n",
    "if alder > 67 and kjonn == \"kvinne\":\n",
    "    print(\"Som kvinnelig pensjonist får du en blomst.\")"
   ]
  },
  {
   "cell_type": "markdown",
   "id": "b7e3024c",
   "metadata": {},
   "source": [
    "En annen, typisk bruk av OG-kombinasjonen\n",
    "(`and`), er når man skal teste om verdien i en tallvariabel (for\n",
    "eksempel alder) befinner seg innenfor et gitt intervall. Dèt gjør den\n",
    "hvis den er **større enn eller lik** minstegrensen samtidig som\n",
    "det er **mindre enn eller lik** størstegrensen. Se eksempel under.\n",
    "\n",
    "<!-- Images/Betinget/intervall.png  -->"
   ]
  },
  {
   "cell_type": "code",
   "execution_count": 16,
   "id": "7114b7df",
   "metadata": {},
   "outputs": [
    {
     "name": "stdout",
     "output_type": "stream",
     "text": [
      "Barnet går i barnehagen.\n"
     ]
    }
   ],
   "source": [
    "barnealder = 5\n",
    "if barnealder >= 2 and barnealder <= 5:\n",
    "    print(\"Barnet går i barnehagen.\")"
   ]
  },
  {
   "cell_type": "markdown",
   "id": "5c0f16f9",
   "metadata": {},
   "source": [
    "### Logisk ELLER (or)\n",
    "\n",
    "Et logisk uttrykk med to deluttrykk koblet med `or` er sant\n",
    "dersom minst ett av deluttrykkene er sant (eller dersom begge er\n",
    "sanne samtidig). Se eksempel under. Her \n",
    "får man rabatt enten man er\n",
    "en kvinne eller en senior (eller begge deler).\n",
    "\n",
    "<!-- Images/Betinget/logiskeller.png -->"
   ]
  },
  {
   "cell_type": "code",
   "execution_count": 17,
   "id": "98e24a6e",
   "metadata": {},
   "outputs": [
    {
     "name": "stdout",
     "output_type": "stream",
     "text": [
      "Enten kvinner eller pensjonist (eller både og)\n"
     ]
    }
   ],
   "source": [
    "alder = 65\n",
    "kjonn = \"kvinne\"\n",
    "if alder > 67 or kjonn == \"kvinne\":\n",
    "    print(\"Enten kvinner eller pensjonist (eller både og)\")"
   ]
  },
  {
   "cell_type": "markdown",
   "id": "d6f45f8f",
   "metadata": {},
   "source": [
    "## Videre lesning for spesielt interesserte\n",
    "\n",
    "I dette kapitlet har vi sett på de mest grunnleggende\n",
    "beslutningsstrukturene i Python. \n",
    "Det finnes noen andre `if`-baserte beslutningsstrukturer, og \n",
    "de som er særlig interesserte kan lese mer om dise her:\n",
    "\n",
    "[https://realpython.com/python-conditional-statements](https://realpython.com/python-conditional-statements)"
   ]
  }
 ],
 "metadata": {
  "jupytext": {
   "formats": "md:myst",
   "text_representation": {
    "extension": ".md",
    "format_name": "myst",
    "format_version": 0.13,
    "jupytext_version": "1.11.5"
   }
  },
  "kernelspec": {
   "display_name": "Python 3",
   "language": "python",
   "name": "python3"
  },
  "language_info": {
   "codemirror_mode": {
    "name": "ipython",
    "version": 3
   },
   "file_extension": ".py",
   "mimetype": "text/x-python",
   "name": "python",
   "nbconvert_exporter": "python",
   "pygments_lexer": "ipython3",
   "version": "3.11.4"
  },
  "mystnb": {
   "number_source_lines": true
  },
  "source_map": [
   15,
   34,
   40,
   83,
   88,
   90,
   102,
   107,
   116,
   121,
   137,
   144,
   147,
   154,
   158,
   165,
   183,
   188,
   233,
   240,
   244,
   251,
   264,
   269,
   286,
   295,
   313,
   322,
   354,
   359,
   369,
   373,
   385,
   390
  ]
 },
 "nbformat": 4,
 "nbformat_minor": 5
}