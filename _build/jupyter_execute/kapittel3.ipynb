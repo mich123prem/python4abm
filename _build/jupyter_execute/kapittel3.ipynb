{
 "cells": [
  {
   "cell_type": "markdown",
   "id": "bbf87b91",
   "metadata": {},
   "source": [
    "# 3. Variabler\n",
    "Før du går i gang med å programmere (\"kode\") er det viktig å lære hva som skjer når vi skriver programkode. En essensiell del av programmeringsspråket er håndtering av *variabler*. Vi vil i dette kapitlet vise hvordan disse fungerer.\n",
    "\n",
    "## Om variabler og verdier\n",
    "\n",
    "Et program forholder seg som regel til data det skal gjøre noe med.\n",
    "Når programmet starter ligger det kanskje noen ubearbeidede data i filer og databaser. Programmet skal lese inn, bearbeide og gjerne lagre (data som nå er bearbeidet) til samme eller andre filer og databaser. Disse data er **verdier**, gjerne tall (datoer, priser osv.)  eller tekster (navn, adresser osv.). Under kjøring må disse verdiene ligge i programmets minne. Disse verdiene leses inn i (og flyttes mellom)  **variabler**. For de som er særlig interessert, gir vi, i avsnittet {ref}`VariablerMinne`, en illustrert forklaring på hvordan variabler håndteres teknisk. \n",
    "\n",
    "### Eksempler på verdier\n",
    "\n",
    "En **verdi** kan som sagt være et tall eller en tekst.\n",
    "\n",
    "* *Michael* er et eksempel på en tekstverdi\n",
    "* *12.5*, *-15* og *100000* er eksempler på tallverdier[^desimaltall_i_python]\n",
    "\n",
    "[^desimaltall_i_python]: Python bruker amerikansk notasjon på desimaltall. 12,5 skrives som 12.5.\n",
    "\n",
    "\n",
    "### Hva er variabler?\n",
    "\n",
    "Forestill deg et program som skal legge sammen to tall. På skjermen får du opp to tomme bokser. Du får beskjed om taste antall katter du har sett i dag i den første boksen, og så får du beskjed om å taste antall hunder du har sett i dag i den andre boksen. Du bruker tastaturet ditt og taster inn. Så kommer det opp på skjermen hvor mange katter og hunder du har sett totalt i dag.\n",
    "\n",
    "Dette programmet\n",
    "utgjøres av en rekkefølge på fire handlinger. \n",
    "\n",
    "![\"Fire handling som utgjør et tenkt program\"](./Images/variabler/tastatur.png)\n",
    "\n",
    "Handlingene skrives nedenfor i\n",
    "et *kvasispråk*, som ligner norsk (ikke i *Python*).\n",
    "\n",
    "1. Hent det første tallet (en verdi) fra tastaturet.\n",
    "2. Hent det andre tallet (en annen verdi) fra tastaturet.\n",
    "3. Legg det første tallet til det andre tallet og produser et resultat (enda en verdi).\n",
    "4. Skriv resultatet ut til skjermen.\n",
    "\n",
    "Programmet henter to tall fra tastaturet, legger tallene sammen og sørger for\n",
    "at resultatet kan skrives til skjermen.\n",
    "\n",
    "Programmet kjører én linje av gangen, og hver\n",
    "linje utfører en deloppgave. Når linje 3 utføres, er\n",
    "linje 2 for lengst (hele 2 tusenedels sekunder!) ferdig\n",
    "utført, for ikke å snakke om linje 1. To spørsmål:\n",
    "\n",
    "1. Hvordan skal linje 3 finne de tallene den skal legge sammen?\n",
    "2. Hvor skal summen tas vare på inntil den skrives ut?\n",
    "\n",
    "Betrakt følgende programbit:\n",
    "\n",
    "1. Hent det første tallet fra tastaturet. Legg det et avtalt sted i maskinenes minne.\n",
    "2. Hent det andre tallet fra tastaturet. Legg det et (annet) avtalt sted i maskinenes minne.\n",
    "3. Legg det første tallet, _som ligger i det første avtalte stedet_, til det andre tallet, som ligger i det andre avtalte stedet, og produser et resultat. Resultatet legges i et tredje avtalt sted.\n",
    "4. Skriv tallet fra det tredje avtalte stedet ut til skjermen.\n",
    "\n",
    "Slike **avtalte steder** representerer programmets *husk*, og\n",
    "vi kaller dem **variabler**. En variabel har et *navn*, en referanse, slik at det\n",
    "går an å ha en avtale mellom linjene 1 og 2, og linje 3 om hvor (hos\n",
    "hvilke variabelnavn) data skal legges/hentes.\n",
    "\n",
    "En variabel er, med andre ord, en plassholder, med navn, hvor det kan lagres en verdi\n",
    "over en viss tid. Verdien blir *innholdet* i denne\n",
    "plassholderen.\n",
    "Et program kan ha mange variabler, og hver av disse har en unik referanse\n",
    "(navn). Navnet gjør det mulig for programmet å aksessere variablene:\n",
    "\n",
    "* for å avlese deres verdier\n",
    "* evt. legge nye verdier i dem.\n",
    "\n",
    "Oppsummert:\n",
    "\n",
    "* En variabel - en plass i maskinens minne hvor vi kan lagre en verdi.\n",
    "* En variabel har et navn som programmet kan bruke når det enten avleser dens verdi eller skriver en ny verdi til den.\n",
    "\n",
    "### Variabelnavn\n",
    "\n",
    "Variabelnavnet, som gis av programmereren, bør uttrykke verdiens\n",
    "**rolle**. *Python* bryr seg ikke om hva\n",
    "variablene heter, bare navnene er unike, men de som skal lese programmeringen som er gjort\n",
    "bør kunne forstå av navnet hva som er variabelens rolle. God navngiving er krevende, det krever konsistens og \n",
    "disiplin,  men har mange fordeler. Gode variabelnavn gjør dokumentasjon av programkoden tilgjengelig for andre, \n",
    "og minsker behovet for mange forklarende kommentarer. \n",
    "\n",
    "Se på følgende variabler:\n",
    "\n",
    "* *pris* med verdien 12;\n",
    "* *antall\\_maaneder*, også den med verdien 12;\n",
    "\n",
    "Variablene *pris* og *antall\\_maaneder* har\n",
    "samme verdi (tallet 12), men helt forskjellige *roller*.\n",
    "Navnene bør, så langt det er praktisk mulig, uttrykke disse rollene. \n",
    "For å navngi variabler bruker vi ofte ord, på engelsk eller norsk. \n",
    "\n",
    "⚠️ **Merk!** Variabler kan ikke begynne med tall.\n",
    "Variablene *Fornavn* og *fornavn* er to forskjellige variabler. \n",
    "Variabler kan ikke inneholde mellomrom i navnet.\n",
    "\n",
    "\n",
    "### Verditilordning\n",
    "\n",
    "Som allerede nevnt, utgjør verdier innholdet i variablene. Det er flere\n",
    "måter variabler kan anta verdier på. Den enkleste måten er\n",
    "**direkte tilordning**[^direkte_tilordning]: `pris = 10`. Samme variabel (med samme\n",
    "navn) kan senere tilordnes en annen verdi: `pris = 12`. Altså kan\n",
    "verdien *variere*. Noen flere eksempler:\n",
    "\n",
    "* `fornavn = \"Michael\"`    (på norsk: *fornavn* settes lik *Michael*)\n",
    "* `etternavn = \"Preminger\"`  (på norsk: *etternavn* settes lik *Preminger*)\n",
    "* `pris = 4.25`  (på norsk: *pris* settes lik *4.25*)\n",
    "* `antall_maaneder = 12`  (på norsk: *antall\\_maaneder* settes lik *12*) \n",
    "\n",
    "Legg merke til det uthevete *settes lik*. I Python betyr likhetstegnet *=* at det\n",
    "settes lik. Det betyr ikke *er lik* og heller ikke *lik*. \n",
    "\n",
    "[^direkte_tilordning]: Direkte tilordning er handlingen å ta en variabel (nyopprettet, eller som har en viss verdi), og få\n",
    "den til å anta en (ny) verdi. Den evt. gamle verdien er dermed slettet og glemt.\n",
    "\n",
    "✍️ **Oppgave:** Lag en ny celle og skriv inn en verditilordning. Kjør cellen. Lag en ny celle og skriv inn variabelnavnet og kjør cellen. Erstatt så verdien med en annen verdi og kjør begge cellene på nytt. \n",
    "\n",
    "### Datatyper\n",
    "\n",
    "Som det fremkommer av eksemplene over, kan variabler lagre\n",
    "forskjellige *typer* data. *Michael*  er en verdi av typen\n",
    "tekststreng, *4.25* er en verdi av typen desimaltall og *12* er en verdi\n",
    "av typen heltall.\n",
    "\n",
    "Her er en oversikt over de ulike datatypene:\n",
    "\n",
    "| Datatype      | Eksempel | Forklaring |\n",
    "| ----------- | ----------- | ----------- |\n",
    "| Str      | `\"Michael\"`, `\"42\"`, `\"42.5\"`, `\"True\"` | Tekststreng |\n",
    "| Int   | `42` | Hele tall |\n",
    "| Float   | `42.5` | Desimaltall, omtales som **flyttall** |\n",
    "| Boolean   | `True` | Uttrykkes som enten `True` eller `False`. |\n",
    " \n",
    "⚠️ **Merk!**  verdier av typen tekststreng skrives med anførselstegn\n",
    "(`fornavn = \"Michael\"`). Verdier av typen tall\n",
    "skrives uten anførselstegn (`pris = 4.25`). Det betyr at 42 kan være enten et heltall eller en tekststreng, avhengig av om man har brukt **fnutter** (anførselstegn).\n",
    " \n",
    "<!--\n",
    "For å avslutte den korte innføringen til verdier, innfører vi også\n",
    "*direkteverdi* (englesk:*literal*). En direkteverdi\n",
    "er en verdi som er gjengitt ordrett i programmet. Eksempler vi har\n",
    "brukt er *Michael* og *4.25*. En direkteverdi brukes ofte til å\n",
    "sette en førsteverdi til en variabel. Direkteverdier av typen\n",
    "tekststreng skrives med anførselstegn i Python-programmer\n",
    "(`fornavn = \"Michael\"`). Direkteverdier av typen tall\n",
    "skrives uten anførselstegn (`pris = 4.25`). Det betyr at 42 kan være enten et heltall eller en tekststreng, avhengig av om man har brukt **fnutter**.\n",
    "-->\n",
    "<!-- David: Noe om bruk av \" eller ' for å merke tekststrenger? -->\n",
    "\n",
    "## Om å arbeide med variabler\n",
    "\n",
    "Variabler oppstår, lever og dør innenfor programmets levetid, noen variabler er knyttet til\n",
    "programmet som helhet, andre til visse funksjoner eller andre **byggeblokker**\n",
    "[^byggeblokker] i programmet.\n",
    "\n",
    "[^byggeblokker]: Vi omtaler funksjoner og andre **byggeblokker** i senere kapitler.\n",
    "\n",
    "Programmet kan avlese verdien i den aktuelle minneposisjonen, eller\n",
    "forandre den (skrive en ny verdi). Variabelen *fornavn* kan altså ha forskjellige verdier i løpet av dens\n",
    "*levetid*[^levetid] (derav betegnelsen *variabel*).\n",
    "*fornavn* kan ha verdien *Michael*, denne kan endres til *Lars*, deretter til *Erik*, osv.\n",
    "\n",
    "Variabler *huskes* fra tidligere kjørte celler, og kan dermed brukes uten videre \n",
    "i senere celler. \n",
    "\n",
    "[^levetid]: Levetiden til et program er tiden fra kjøringen starter til den avslutter.\n",
    "\n",
    "✍️ **Oppgave:** Opprett først en celle i notebook'en din, kopier innholdet i Celle 1 under over i din celle, og kjør cellen. \n",
    "\n",
    "**Celle 1**"
   ]
  },
  {
   "cell_type": "code",
   "execution_count": 1,
   "id": "5dc866e5",
   "metadata": {},
   "outputs": [
    {
     "name": "stdout",
     "output_type": "stream",
     "text": [
      "40\n"
     ]
    }
   ],
   "source": [
    "tall1 = 15\n",
    "tall2 = 25\n",
    "\n",
    "tall3 = tall1 + tall2\n",
    "\n",
    "print(tall3)"
   ]
  },
  {
   "cell_type": "markdown",
   "id": "97594cc6",
   "metadata": {},
   "source": [
    "I eksemplet under brukes variablene *tall1* og *tall2* definert i celle over.\n",
    "\n",
    "\n",
    "<!-- Images/Jupyter/jupyter-variables-across-cells.png -->\n",
    "**Celle 2**"
   ]
  },
  {
   "cell_type": "code",
   "execution_count": 2,
   "id": "b0e5943a",
   "metadata": {},
   "outputs": [
    {
     "name": "stdout",
     "output_type": "stream",
     "text": [
      "375\n"
     ]
    }
   ],
   "source": [
    "tall4 = tall1 * tall2\n",
    "\n",
    "print(tall4)"
   ]
  },
  {
   "cell_type": "markdown",
   "id": "fe8f57b1",
   "metadata": {},
   "source": [
    "✍️ **Oppgave:** Opprett en ny celle under den forrige, kopier inn innholdet i Celle 2 over i cellen, men erstatt \"tall1\" med \"tall10\", og kjør cellen.\n",
    "\n",
    "Feilmelding kan forekomme hvis du skriver variabelnavnet \n",
    "feil, f.eks. *tall10* istendenfor *tall1*. Da vil det komme en feilmelding.  \n",
    "\n",
    "⚠️ **Merk!** Skrivefeil er den vanligste feilen i koding. \n",
    "\n",
    "Det er ikke alltid så lett å tolke feilmeldingene som kommer fra Python, \n",
    "men legg merke til at stedet feilen har oppstått (fil eller celle, linjenummer), markeres."
   ]
  },
  {
   "cell_type": "code",
   "execution_count": 3,
   "id": "277306e1",
   "metadata": {},
   "outputs": [
    {
     "ename": "NameError",
     "evalue": "name 'tall10' is not defined",
     "output_type": "error",
     "traceback": [
      "\u001b[0;31m---------------------------------------------------------------------------\u001b[0m",
      "\u001b[0;31mNameError\u001b[0m                                 Traceback (most recent call last)",
      "Cell \u001b[0;32mIn[3], line 1\u001b[0m\n\u001b[0;32m----> 1\u001b[0m tall4 \u001b[38;5;241m=\u001b[39m tall10 \u001b[38;5;241m*\u001b[39m tall2\n\u001b[1;32m      3\u001b[0m \u001b[38;5;28mprint\u001b[39m(tall4)\n",
      "\u001b[0;31mNameError\u001b[0m: name 'tall10' is not defined"
     ]
    }
   ],
   "source": [
    "tall4 = tall10 * tall2\n",
    "\n",
    "print(tall4)"
   ]
  },
  {
   "cell_type": "markdown",
   "id": "6f441847",
   "metadata": {},
   "source": [
    "<!-- Images/Jupyter/jupyter-error-name-not-defined.png -->\n",
    "\n",
    "En annen ting vi kan lære om kjøring av programmer fra å se på \n",
    "eksempelet overfor er følgende: Dataprogrammer kjører linje etter linje overfra og ned. For at programmet skal \n",
    "kjenne igjen en variabel, skal den ha vært definert en linje lenger opp. Eller den må være definert i en tidligere celle.\n",
    "\n",
    "⚠️ **Merk!**  Når du åpner notebook'en din på nytt, må du også kjøre cellene i notebooken på nytt. Kjører du da bare en spesifikk celle som bruker en variabel som er definert i en annen celle vil du få samme type feilmelding som over.\n",
    "\n",
    "✍️ **Oppgave:** Endre \"tall10\" til \"tall1\". Kjør cellene på nytt. I menyen i notebook'en din vil du finne en knapp som gjør at den kjører gjennom alle celler. Sjekk om du finner den. \n",
    "\n",
    "\n",
    "## Enkle operasjoner med variabler\n",
    "\n",
    "### Aritmetiske operasjoner med tallvariabler\n",
    "\n",
    "Variablene *pris* og *antall\\_maaneder* som vi introduserte tidligere er eksempler på tallvariabler, \n",
    "enten heltall (-200, -1, 0, 1, 500, 10000), eller flyttall (-1.5, 0.0, 0.5, 1.1, 10.0). Disse \n",
    "typer variabler kan det gjøres forskjellige matematiske operasjoner på, bl.a. **aritmetikk**. I eksemplet  under \n",
    "legger vi 1 til variabelen *pris* og lagrer resultatet i variabelen *nypris*. \n",
    "På samme måte kan vi også utføre andre operasjoner, slik som minus (-), ganging (\\*), deling (/) og til og med potens (\\*\\*).\n",
    "\n",
    "<!-- David: Jfr første setning i avsnitt overfor. Her brukes flyttall, mens tidligere\n",
    "            i avsnitt brukes desimaltall. Bruker denne samme betegnelse? --> \n",
    "\n",
    "<!-- Images/variabler/nypris.png -->"
   ]
  },
  {
   "cell_type": "code",
   "execution_count": 4,
   "id": "92d463bb",
   "metadata": {},
   "outputs": [
    {
     "name": "stdout",
     "output_type": "stream",
     "text": [
      "5.25\n"
     ]
    }
   ],
   "source": [
    "pris = 4.25\n",
    "nypris = pris + 1\n",
    "print(nypris)"
   ]
  },
  {
   "cell_type": "markdown",
   "id": "c16eb7ee",
   "metadata": {},
   "source": [
    "En operasjon vi ofte utfører i programmering, er inkrementering, altså øking av en \n",
    "variabelverdi med 1 (se neste eksempel). Her skjer følgende:\n",
    "\n",
    "* Verdien i variabelen *i*[^heltallsvar] kopieres til programmets arbeidsområde.\n",
    "* Verdien pluss på 1\n",
    "* Den påplussede verdien kopieres tilbake til variabelen *i*, og overskriver dens gamle verdi.\n",
    "\n",
    "Som en kortform for endring av verdi i en variabel basert på gammel verdi, har *Python* også \n",
    "operasjonen `+=`, som gjør det sammen.\n",
    "\n",
    "<!-- Images/variabler/ink.png -->"
   ]
  },
  {
   "cell_type": "code",
   "execution_count": 5,
   "id": "0ea1e840",
   "metadata": {},
   "outputs": [
    {
     "name": "stdout",
     "output_type": "stream",
     "text": [
      "2\n"
     ]
    }
   ],
   "source": [
    "i = 1\n",
    "i = i + 1\n",
    "print(i)"
   ]
  },
  {
   "cell_type": "markdown",
   "id": "df35f2f4",
   "metadata": {},
   "source": [
    "<!-- Images/variabler/inkadd.png -->"
   ]
  },
  {
   "cell_type": "code",
   "execution_count": 6,
   "id": "f4dc3d69",
   "metadata": {},
   "outputs": [
    {
     "name": "stdout",
     "output_type": "stream",
     "text": [
      "2\n"
     ]
    }
   ],
   "source": [
    "i = 1\n",
    "i += 1\n",
    "print(i)"
   ]
  },
  {
   "cell_type": "markdown",
   "id": "a50113d3",
   "metadata": {},
   "source": [
    "[^heltallsvar]: Bokstaven *i* (og bokstavene *j* - *n*) ble i Fortran-språket, helt siden 50-tallet, brukt for å navngi variabler med typiske heltallsroller (for eksempel tellevariabler).\n",
    "<a href=\"https://fortran-lang.org/en/learn/intrinsics/type/#implicit-typing\">https://fortran-lang.org/en/learn/intrinsics/type/#implicit-typing</a>\n",
    "\n",
    "### Enkle operasjoner på tekststrenger\n",
    "\n",
    "Tekststrenger er, som navnet tilsier rekker med påfølgende tegn, som vi av og til trenger \n",
    "å operere på. En typisk operasjon på to (eller flere) tekststrenger, ville være å sammenføye \n",
    "dem (**konkatenere** på mer teknisk språk). eksemplet under illustrerer slik **sammenføying**.\n",
    "\n",
    "Under kobler vi altså to verdier fra to variabler sammen til å utgjøre verdien i en ny variabel. \n",
    "\n",
    "<!-- Images/variabler/tekststrenger.png -->"
   ]
  },
  {
   "cell_type": "code",
   "execution_count": 7,
   "id": "24e675b6",
   "metadata": {},
   "outputs": [
    {
     "name": "stdout",
     "output_type": "stream",
     "text": [
      "MichaelPreminger\n"
     ]
    }
   ],
   "source": [
    "fornavn = \"Michael\"\n",
    "etternavn = \"Preminger\"\n",
    "fulltnavn = fornavn + etternavn\n",
    "print(fulltnavn)"
   ]
  },
  {
   "cell_type": "markdown",
   "id": "b1d241ea",
   "metadata": {},
   "source": [
    "Her ser du at det mangler et mellomrom mellom fornavnet og etternavnet. Det må vi legge til på måten under:"
   ]
  },
  {
   "cell_type": "code",
   "execution_count": 8,
   "id": "60f231da",
   "metadata": {},
   "outputs": [
    {
     "name": "stdout",
     "output_type": "stream",
     "text": [
      "Michael Preminger\n"
     ]
    }
   ],
   "source": [
    "fulltnavn = fornavn + \" \" + etternavn\n",
    "print(fulltnavn)"
   ]
  },
  {
   "cell_type": "markdown",
   "id": "d518f106",
   "metadata": {},
   "source": [
    "En sammenføying kan også skje direkte inne i en print, \n",
    "og trenger ikke mellomlagres i en variabel. \n",
    "\n",
    "<!-- Images/variabler/printkonkat.png -->"
   ]
  },
  {
   "cell_type": "code",
   "execution_count": 9,
   "id": "71e260bd",
   "metadata": {},
   "outputs": [
    {
     "name": "stdout",
     "output_type": "stream",
     "text": [
      "Michael Preminger\n"
     ]
    }
   ],
   "source": [
    "print(fornavn + \" \" + etternavn)"
   ]
  },
  {
   "cell_type": "markdown",
   "id": "0a74b3e1",
   "metadata": {},
   "source": [
    "✍️ **Oppgave:** Med utgangspunkt i operasjonene som er vist over, prøv å lagק en operasjon som gir følgende print: `Preminger, Michael Preminger`\n",
    "\n",
    "## Datastrukturer og samlinger\n",
    "\n",
    "Før vi avslutter denne introduksjonen til variabler, er det viktig å kort introdusere **datastrukturer** \n",
    "og samlinger.\n",
    "\n",
    "I programmering brukes ordet datastruktur ofte  om to forskjellige ting: \n",
    "\n",
    "* måten et program organiserer sine data \n",
    "* samlinger, altså variabeltyper som kan holde flere verdier samtidig. \n",
    "\n",
    "Vi skal forbeholde bruken av termen **datastruktur** til det første punktet. Et veldig enkelt \n",
    "programs datastruktur kan være så enkel som tre variabler, hvorav to legges sammen for å \n",
    "lagre resultatet i den tredje. Andre programmer har en mer kompleks datastruktur, som består \n",
    "av flere variabler som hver kan holde mange verdier (som henger sammen på forskjellige måter) \n",
    "samtidig. Et program som skal holde orden på et universitet vil trenge en datastruktur \n",
    "som holder lister av studenter med navn og kulltilhørighet, lister av bygninger og \n",
    "tilhørende rom med deres roller (auditorier, toaletter, kontorer), osv. Slike program blir \n",
    "veldig kompliserte (umulige) dersom hvert objekt (student, foreleser, rom) er representert \n",
    "med èn variabel som har et navn. Vi kommer til å introdusere slike **samlinger** senere i del 2.\n",
    "\n",
    "(VariablerMinne)=\n",
    "## Variabler og minne i datamaskinen\n",
    "\n",
    "Til slutt i dette kapitlet vil vi kort nevne hva som skjer i de fysiske delene av maskinen når vi programmerer. \n",
    "Programmering er på sitt aller enkleste en rekke fysiske elektroniske signaler.  Alt en datamaskin *kan og husker* ligger lagret elektronisk i\n",
    "maskinens minne. Minnet er inndelt i blokker, og blokkene er inndelt\n",
    "i celler. Enhver celle har en *adresse*, som er cellens\n",
    "posisjon i blokken.\n",
    "\n",
    "<!-- Images/variabler/FYSVARS1.png -->\n",
    "\n",
    "![minneblokk](./Images/variabler/FYSVARS1.png)\n",
    "\n",
    "Når vi skriver programkode, blir denne *tolket* til slike signaler av et program som heter *interpreter* (på norsk *tolker*).\n",
    "Ethvert (tolket) program som kjører i datamaskinen (for eksempel et\n",
    "*Python*-program) har en *minneblokk* som tolkerern administrerer. En variabel opptar èn eller\n",
    "flere celler i programmets minneblokk. Navnet på variabelen brukes\n",
    "av programmet istedenfor cellens adresse (posisjon) i programmets\n",
    "minneblokk.  Når vi i programmet bruker\n",
    "variabelnavnet (*bokstavkombinasjon*), blir navnet i maskinen\n",
    "*oversatt* til en adresse (posisjon) i minnet. Datamaskinen\n",
    "bruker denne posisjonen til å finne verdien.\n",
    "\n",
    "Som tidligere nevnt, har variabelnavnet ingen betydning for et program, så lenge det er unikt. Det er det som gjør at det får en unik adresse.\n",
    "\n",
    "<!-- Images/variabler/FYSISK.png -->\n",
    "\n",
    "![fysiskminne](./Images/variabler/FYSISK.png)\n",
    "\n",
    "## Oppgaver\n",
    "\n",
    "Klikk  <a href=\"excercises/mi-oppgaver-variabler.ipynb\">her</a> for en notebook med oppgaver. Oppgavefilen lastes da ned til din standardmappe for nedlastinger (til vanlig: _Downloads_ eller _Nedlastinger_). Denne filen kan du så flytte til din Anaconda-mappe-hierarki, åpne og løse oppgavene (anbefalt å følge rekkefølgen i notebooken).\n",
    "\n",
    "## Noter"
   ]
  }
 ],
 "metadata": {
  "jupytext": {
   "formats": "md:myst",
   "text_representation": {
    "extension": ".md",
    "format_name": "myst",
    "format_version": 0.13,
    "jupytext_version": "1.11.5"
   }
  },
  "kernelspec": {
   "display_name": "Python 3",
   "language": "python",
   "name": "python3"
  },
  "language_info": {
   "codemirror_mode": {
    "name": "ipython",
    "version": 3
   },
   "file_extension": ".py",
   "mimetype": "text/x-python",
   "name": "python",
   "nbconvert_exporter": "python",
   "pygments_lexer": "ipython3",
   "version": "3.11.4"
  },
  "mystnb": {
   "number_source_lines": true
  },
  "source_map": [
   15,
   186,
   193,
   200,
   204,
   216,
   220,
   248,
   252,
   267,
   271,
   275,
   279,
   295,
   300,
   304,
   307,
   314,
   316
  ]
 },
 "nbformat": 4,
 "nbformat_minor": 5
}