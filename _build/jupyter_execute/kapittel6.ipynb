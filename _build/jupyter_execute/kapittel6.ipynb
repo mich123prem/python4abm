{
 "cells": [
  {
   "cell_type": "markdown",
   "id": "6b1dc284",
   "metadata": {},
   "source": [
    "# 6. Funksjoner\n",
    "\n",
    "Det vi har gått gjennom i de foregående kapitlene gir oss, i prinsippet, alt vi trenger\n",
    "for å skrive enkle programmer. Vi kan lagre og manipulere\n",
    "data i variabler, kontrollere gangen i programmene med\n",
    "if-tester og håndtere grupper av objekter med\n",
    "løkker og lister eller dict'er. For små og relativt oversiktlige oppgaver er\n",
    "dette tilstrekkelig. Når oppgaven blir større og litt mer komplisert\n",
    "(som programmeringsoppgaver ofte er), blir programmene våre store,\n",
    "uoversiktlige og vanskelige å vedlikeholde. Da kan vi ta i bruk **funksjoner**.\n",
    "\n",
    "\n",
    "## Hva er funksjoner\n",
    "\n",
    "En funksjon i et program er en sekvens av instruksjoner, med navn, som utfører en bestemt\n",
    "oppgave, og som andre deler av programmet kan *kalle på* <!--\\index{funksjoner!kall}--> (i betydning rope på) når den bestemte oppgaven\n",
    "skal utføres. <!-- \\index{funksjoner}--> Funksjoner gir oss\n",
    "muligheten til å strukturere våre programmer. De gjør det også\n",
    "lettere å <!-- \\index{gjenbruk} --> gjenbruke **programmeringsinnsats**. Det vil\n",
    "si at man bruker gammel programkode som noen har\n",
    "skrevet tidligere, til å løse nye problemer. I dette kapitlet ser vi\n",
    " stort sett på bruk av funksjoner som noen andre har skrevet for oss. Vi vier også litt plass til å vise\n",
    "hvordan man lager funksjoner, om ikke annet, for bedre å forstå funksjonene vi bruker.\n",
    "\n",
    "\n",
    "\n",
    "\n",
    "### En analogi fra matlagingens verden\n",
    "\n",
    "\n",
    "Forestill deg en bestemt oppgave som ikke\n",
    "har noe med programmering å gjøre, nemlig det å lage hvit saus. Hvit saus\n",
    "kan brukes til forskjellige retter, men lages nokså likt for alle\n",
    "disse. Det er derfor naturlig å definere laging av hvit saus som en\n",
    "egen **deloppgave** i matlagingen. Overført til\n",
    "programmering, snakker vi om å skrive en funksjon som lager\n",
    "hvit saus, og som ulike program som \"fiskeBolleMiddag\" eller\n",
    "\"blomkålsGrateng\" kan bruke. Vi kommer tilbake til dette eksemplet underveis i kapitlet.\n",
    "\n",
    "\n",
    "\n",
    "\n",
    "### Eksempel på en egendefinert funksjon\n",
    "\n",
    "\n",
    "Vi har allerede brukt noen *Python*-funksjoner, og såvidt introdusert\n",
    "begrepet (se <!--\\index{len}--> `len`-funksjonen i forrige kapittel. Funksjonen kan gjerne ses på som et\n",
    "hjelpeprogram, med navn. Eller en **byggeblokk**.\n",
    "\n",
    "I cellegruppen nedenfor definerer vi vår første funksjon, med *navn* og *innhold*, og kjører den. Når vi kjører celle [1], skrives ikke noen ting ut. I celle [2] *kaller* vi på funksjonen, og da blir linje 3 i definisjonen i celle [1] (innholdet i funksjonen) utført.\n",
    "I celle [3] kaller vi funksjonen tre ganger. Dette gjør vi for å illustrere at en funksjon som er definert èn gang, kan kalles på mange ganger, selv om det akkurat her ikke representerer en stor besparelse. Dette er ikke den eneste fordelen med bruk av funksjoner, men om vi hadde hatt en funksjon hvis innhold er på 100 linjer, ville denne fordelen ha vært tydeligere. Da ville vi sluppet å skrive linjene hver gang vi vil ha innholdet utført.\n",
    "\n",
    "<span id=\"printHallo1\"></span>"
   ]
  },
  {
   "cell_type": "code",
   "execution_count": 1,
   "id": "bf162ed3",
   "metadata": {
    "mystnb": {
     "number_source_lines": true
    }
   },
   "outputs": [],
   "source": [
    "# celle [1]\n",
    "def printHallo():\n",
    "    print(\"Hallo\")"
   ]
  },
  {
   "cell_type": "code",
   "execution_count": 2,
   "id": "3b28a957",
   "metadata": {
    "mystnb": {
     "number_source_lines": true
    }
   },
   "outputs": [
    {
     "name": "stdout",
     "output_type": "stream",
     "text": [
      "Hallo\n"
     ]
    }
   ],
   "source": [
    "# celle [2]\n",
    "printHallo()"
   ]
  },
  {
   "cell_type": "code",
   "execution_count": 3,
   "id": "49f36af8",
   "metadata": {
    "mystnb": {
     "number_source_lines": true
    }
   },
   "outputs": [
    {
     "name": "stdout",
     "output_type": "stream",
     "text": [
      "Hallo\n",
      "Hallo\n",
      "Hallo\n"
     ]
    }
   ],
   "source": [
    "# celle [3]\n",
    "printHallo()\n",
    "printHallo()\n",
    "printHallo()"
   ]
  },
  {
   "cell_type": "markdown",
   "id": "bbaf27d3",
   "metadata": {},
   "source": [
    "<!--\n",
    "\\begin{figure}[H]\n",
    "\\begin{center}\n",
    "\\includegraphics[width=0.75\\linewidth]{Images/funksjoner/printHallo1.png}\n",
    "\\end{center}\n",
    "\\caption{Definisjon og kjøring av en funksjon} \n",
    "\\label{printHallo1} \n",
    "\\end{figure}\n",
    "-->\n",
    "\n",
    "\n",
    "\n",
    "\n",
    "\n",
    "\n",
    "For å oppsummere::\n",
    "\n",
    "  * Funksjonen defineres (celle [1]) med Python ordet `def` og med navn, etterfulgt av innhold.\n",
    "  * Navnet *skal* etterfølges av parenteser `()`, i dette tilfellet tomme.\n",
    "  * Hver gang funksjonen kalles, utføres instruksjonen(e) spesifisert i den.\n",
    "\n",
    "✍️ **Oppgave:**  Med utgangspunkt i cellene over, lag din egen funksjon i din egen notebook. Gi funksjonen et eget navn og eget innhold. \n",
    "\n",
    "<!--\n",
    "%Programbiten i eksempel~\\vref{kallPrintHallo} \\emph{kaller}\n",
    "%funksjonen definert i eksempel~\\vref{printHallo}.\n",
    "-->\n",
    "\n",
    "Å skrive en funksjon er det samme som å lage en ny\n",
    "*Python*-kommando til eget bruk. Funksjoner skrives ofte i separate\n",
    "filer. Disse filene gjøres tilgjengelig for forskjellige programmer\n",
    "som bruker dem. Funksjoner kan imidlertid også\n",
    "skrives i den samme notebook som bruker (kaller på) dem[^rekkefolge]. Funksjonen kan til og med skrives i samme celle, men da foran programbitene som\n",
    "kaller på dem.\n",
    "[^rekkefolge]: Cellen må da bli kjørt før cellen med funksjonskallet\n",
    "\n",
    "\n",
    "\n",
    "`printHallo` i eksempelet over er en\n",
    "*egendefinert* funksjon. Vi skrev den selv og den utgjør en\n",
    "**lokal utvidelse** vi har gjort i *Python*-språket til bruk i konteksten (cellen eller notebooken) den er definert i. Andre kontekster enn denne kan\n",
    "ikke bruke slike lokale utvidelser, med mindre vi gjør\n",
    "disse *eksplisitt tilgjengelige* for dem. \n",
    "\n",
    "**Innebygde funksjoner** er, derimot,\n",
    "tilgjengelig for alle som programmerer i Python. Disse er vanlig å ta i bruk når man jobber med dataanalyser. \n",
    "\n",
    "\n",
    "### Typer funksjoner\n",
    "\n",
    "Funksjoner, uavhengig om de er egendefinerte eller innebygde, kan deles inn i tre hovedkategorier\n",
    "\n",
    "\n",
    "  * rene kommandoer: utfører nøyaktig samme instruksjoner hver gang den kalles, slik som `printHallo` i  eksempelet ovenfor\n",
    "  * funksjoner med parametre som spesifiserer handlingen\n",
    "  * funksjoner (med eller uten parametre) som *returnerer* verdier.\n",
    "\n",
    "\n",
    "Dersom vi alltid lager samme mengde med hvit saus, og den alltid skal\n",
    "smake likt, blir funksjonen `lagHvitSaus()` en ren kommando. \n",
    "Når kokken i huset sier\n",
    "\"lag hvit saus, er du snill\", \n",
    " vet du\n",
    "nøyaktig hva du skal gjøre.\n",
    "\n",
    "\n",
    "\n",
    "Virkeligheten er ofte mer sammensatt. Mengden hvit saus vil kanskje\n",
    "avhenge av hvor mange som skal spise middag, eller andre forhold.\n",
    "Kokken i huset vil muligens si: \"Lag 1 liter hvit saus\" eller,\n",
    "hvis dere venter gjester, \"lag 5 liter hvit saus\". Mengden hvit\n",
    "saus er et **parameter**. Den *spesifiserer* oppgaven\n",
    "nærmere.\n",
    "\n",
    "For begge eksemplene ovenfor er utfallet gitt, og trenger ikke\n",
    "spesifiseres nærmere. Resultatet av funksjonskallet blir en mengde\n",
    "hvit saus, som kan brukes der og da. Er du derimot en kokk i en\n",
    "restaurant, kan det hende du må lage tre forskjellige varianter hvitsaus i\n",
    "løpet av en time, til forskjellige retter som er bestilt. Da vil\n",
    "hver av mengdene saus måtte spesifiseres som et konkret\n",
    "resultat av <!--\\index{funksjoner!kall--> **funksjonskallet**\n",
    "`lagHvitSaus`. Da skriver vi funksjonen slik at den, før den\n",
    "avsluttes, leverer fra seg en verdi som kelneren -- eller\n",
    "kjøkkensjefen -- tar imot for å bruke til den bestemte retten. Dette kalles å **returnere** en verdi.\n",
    "\n",
    "\n",
    "(innebygde)=\n",
    "## Innebygde funksjoner\n",
    "\n",
    "<!--\n",
    "\\index{Innebygde Python-funksjoner}\\index{funksjoner!innebygd}\n",
    "-->\n",
    "Innebygde *Python*-funksjoner er funksjoner som alle kan bruke. Mange av instruksjonene vi bruker ofte (for eksempel\n",
    "`print`), er innebygde funksjoner. Noen har skrevet dem, og plassert dem i et felles <!--\\index{funksjoner!bibliotek}--> **funksjonsbibliotek**. Funksjoner i slike bibliotek (engelsk: \"libraries\") utfører oppgaver som de fleste\n",
    "programmerere trenger ofte.  Noen av disse brukes så ofte at de\n",
    "oppleves som en del av <!--\\index{kjernespråket}-->\"kjernespråket\", men de er egentlig ikke det. I motsetning til *nøkkelord* som `if`,\n",
    "`else`, `while` og `for`, er ikke `print()`, `len()` og \n",
    "andre slike en del av kjernespråket. De er navn på innebygde funksjoner.\n",
    "\n",
    "\n",
    "⚠️ **Merk!**  Funksjonsbibliotek fungerer som utvidelser til *Python*.\n",
    "\n",
    "### Noen innebygde Python-funksjoner\n",
    "\n",
    "De fleste innebygde funksjoner i Python har parametre, og bruker derfor\n",
    "argumenter. Et  eksempel vi kjenner fra før er `print(\"en tekststreng\")`, en funksjon som skriver ut (verdien til) argumentet.\n",
    "\n",
    "Den funksjonen vi så langt har brukt oftest er, uten tvil, funksjonen\n",
    "`print()`. `print()` er en enkel funksjon, og kalles på med ett eller flere\n",
    "**argumenter**. Dett er verdiene som skal printes, gjerne representert med variabler. Funksjonens handling er å skrive\n",
    "verdien(e) ut til **output**. \n",
    "\n",
    "⚠️ **Merk!** Argumentet til `print` kan enten være direkteverdier[^direkteverdier] eller variabler, men det er uansett *verdien* i variabelen som printes. \n",
    "\n",
    "[^direkteverdier]: Vi minner om at en direkteverdi er en fast verdi (tall eller tekststreng)\n",
    "\n",
    "\n",
    "\n",
    "I eksemplet nedenfor brukes\n",
    "`print()` i noen vanlige situasjoner."
   ]
  },
  {
   "cell_type": "code",
   "execution_count": 4,
   "id": "c989db56",
   "metadata": {
    "mystnb": {
     "number_source_lines": true
    }
   },
   "outputs": [
    {
     "name": "stdout",
     "output_type": "stream",
     "text": [
      "et eksempel\n",
      "et eksempel\n",
      "5\n",
      "5\n",
      "et eksempel 5\n"
     ]
    }
   ],
   "source": [
    "tall=5\n",
    "tekst=\"et eksempel\"\n",
    "print(\"et eksempel\") # Et tekstargument som direkteverdi \n",
    "print(tekst) # Et tekstargument lagt i en variabel\n",
    "print(5)     # Et tallargument som direkteverdi\n",
    "print(tall)  # Et tallargument lagt i en variabel\n",
    "print(tekst, tall)"
   ]
  },
  {
   "cell_type": "markdown",
   "id": "b5204501",
   "metadata": {},
   "source": [
    "### Eksempel på en innebygd retur-funksjon\n",
    "\n",
    "\n",
    "En annen funksjon vi har allerede sett i bruk, er funksjonen `len()`. Den anvendes på flerverdi-\"ting\". \n",
    "Disse \"ting\" kan være lister, dict'er, til og med tekststrenger. `len()` **returnerer** lengden av verdien den anvendes på.  Se eksemplene nedenfor.\n",
    "Legg merke til at fordi `len()` returnerer en verdi, kan et kall til den anses som en slags \"dynamisk\" variabel. For eksempel kan **funksjonskallet** være argument til `print()`.  Det vil si at vi kombinerer to ulike funksjoner slik at den ene gir en output av noe den andre funksjonen har returnert som verdi."
   ]
  },
  {
   "cell_type": "code",
   "execution_count": 5,
   "id": "d49f75b7",
   "metadata": {
    "mystnb": {
     "number_source_lines": false
    }
   },
   "outputs": [
    {
     "name": "stdout",
     "output_type": "stream",
     "text": [
      "7\n"
     ]
    }
   ],
   "source": [
    "print(len(\"Michael\"))"
   ]
  },
  {
   "cell_type": "markdown",
   "id": "1561c6bf",
   "metadata": {},
   "source": [
    "✍️ **Oppgave:**  Kopier innholdet i cellen over i din egen celle og be den istedet printe navnet \"Nina\". Kan du tenke deg til hva tallet i output er en lengde på?"
   ]
  },
  {
   "cell_type": "code",
   "execution_count": 6,
   "id": "49d2f5c5",
   "metadata": {
    "mystnb": {
     "number_source_lines": false
    }
   },
   "outputs": [
    {
     "name": "stdout",
     "output_type": "stream",
     "text": [
      "3\n",
      "2\n",
      "7\n"
     ]
    }
   ],
   "source": [
    "studenter=[\"Arne\", \"Gerd\", \"Mona\"]\n",
    "fodselsdager={\"arne\":\"12. juni\", \"Gerd\": \"20. desember\"}\n",
    "print(len(studenter)) #Lengden av en liste\n",
    "print(len(fodselsdager)) # Lengden av en dict\n",
    "print(len(\"Michael\")) # Lengden av en tekststreng"
   ]
  },
  {
   "cell_type": "markdown",
   "id": "e21e09ee",
   "metadata": {},
   "source": [
    "Innebygde funksjoner er sentralt i Del III, når vi skal gjøre datanalyse med *Pandas*, som er et av de mest brukte funksjonsbibliotekene når man skal jobbe med større datasett. \n",
    "\n",
    "Under følger en nærmere detalj-beskrivelse av hvordan ulike typer funksjoner fungerer med utgangspunkt i hvordan lage egne. Her går vi nærmere gjennom **parametre**, **argumenter** og **returneringer**.\n",
    "\n",
    "## Enkle egendefinerte funksjoner\n",
    "\n",
    "<!--\n",
    "\\index{funksjoner!definisjon}\\index{funksjoner!egendefinert}\n",
    "-->\n",
    "Vi skriver egendefinerte funksjoner\n",
    "  * når vi identifiserer en oppgave som gjøres ofte (og det ikke finnes en innebygd funksjon som gjør samme nytten)\n",
    "  * når vi ønsker å gjøre våre programmer lettere å forstå.\n",
    "Med andre ord, ganske ofte.\n",
    "\n",
    "Når vi skal skrive en egendefinert funksjon, pakker vi\n",
    "instruksjonene inn i en blokk som ser slik ut\n",
    "\n",
    "\n",
    "![funksjonsdefinisjon](./Images/funksjoner/funksjon_jb.png)\n",
    "\n",
    "\n",
    "Funksjonen døpes med navn og legges et sted som er tilgjengelig for\n",
    "programmet (eller notebok-cellen) som trenger den. Det kan være enten i\n",
    "samme cellen som selve koden ligger i, en annen celle i samme notebook, eller i en spesiell fil (et\n",
    "**funksjonsbibliotek** eller en mindre **modul**) som gjøres tilgjengelig for programmet.\n",
    "Programmet kan <!--\\index{funksjoner!kall}-->*kalle* (rope på) funksjonen for å utføre\n",
    "handlingen spesifisert med instruksjonene.\n",
    "\n",
    "I eksempelet nedenfor  definerer vi funksjonen\n",
    "`skrivOpphavsRett`.  Denne ligner på `printHallo` som vi skrev\n",
    "tidligere. Når den kalles, skriver den en fast tekststreng til en\n",
    "tekst, en copyright-seksjon."
   ]
  },
  {
   "cell_type": "code",
   "execution_count": 7,
   "id": "24325fcb",
   "metadata": {
    "mystnb": {
     "number_source_lines": true
    }
   },
   "outputs": [
    {
     "name": "stdout",
     "output_type": "stream",
     "text": [
      "Her er en tekst som ska beskyttes.\n",
      " Denne teksten er beskyttet av opphavsrett. \n",
      "     Dersom du ønsker å kopiere fra den eller bruke den \n",
      "     til andre formål enn personlig bruk, må du\n",
      "             kontakte Michael Preminger. \n"
     ]
    }
   ],
   "source": [
    "def skrivOpphavsRett():\n",
    "     print(\"\"\" Denne teksten er beskyttet av opphavsrett. \n",
    "     Dersom du ønsker å kopiere fra den eller bruke den \n",
    "     til andre formål enn personlig bruk, må du\n",
    "             kontakte Michael Preminger. \"\"\")\n",
    "\n",
    "print(\"Her er en tekst som ska beskyttes.\")\n",
    "skrivOpphavsRett()"
   ]
  },
  {
   "cell_type": "markdown",
   "id": "6dd951af",
   "metadata": {},
   "source": [
    "⚠️ **Merk!** Fra utskriften  ser man at teksten\n",
    "som er kodet i funksjonsdefinisjonen `Denne teksten er\n",
    "beskyttet...` kommer *etter* innholdet på filen `Her er en tekst ...`, selv om det i programmet står *før*\n",
    "sistnevnte.\n",
    "\n",
    "\n",
    "\n",
    "Når funksjonen blir definert (altså: at linjene med **funksjonsdefinisjonen** blir kjørt) utføres det\n",
    "egentlig ingen ting. I definisjonen står bare handlingene som\n",
    "funksjonen skal utføre *dersom og når den blir kalt*. Disse handlingene blir lagret i minne i tilknytning til funksjonsnavnet, slik at når cellen over\n",
    "begynner å kjøre, blir først innholdet til teksten skrevet ut, og\n",
    "deretter blir funksjonen kalt\n",
    ", slik at opphavsrettsteksten skrives\n",
    "ut. Altså, er det setningen på linjen\n",
    "8 som utløser det som ble **avtalt**\n",
    "på linjene 1-5.\n",
    "\n",
    "\n",
    "(funkmedpar)=\n",
    "\n",
    "\n",
    "### Egendefinerte funksjoner med parametre\n",
    "\n",
    "Vi har allerede nevnt at parametre kan\n",
    "brukes til å spesifisere funksjonens handlinger.\n",
    "Et **parameter** er en spesiell type variabel. Parametre\n",
    "gjør funksjonene mer fleksible og anvendelige.\n",
    "\n",
    "\n",
    "Funksjonen `skrivOpphavsRett()` gjør nøyaktig det samme\n",
    "hver gang den kalles. Har Michael Preminger mange tekster han\n",
    "ønsker å opphavsrettsmerke, skriver han funksjonen èn gang (det har\n",
    "han gjort ...), gjør funksjonen tilgjengelig for programmene han\n",
    "bruker, og\n",
    "kaller den for hver nettside som skal beskyttes. Allerede her ligger\n",
    "en stor besparelse.\n",
    "\n",
    "\n",
    "Men mer kan oppnås. Det er vanlig å hevde opphavsrett til tekster. Det vil si at det er\n",
    "flere, ikke bare Michael Preminger, son kan tenkes å ville gjøre det\n",
    "på samme måte. Funksjonen i eksemplet nedenfor kan brukes av hvem som\n",
    "helst til å beskytte sine dokumenter."
   ]
  },
  {
   "cell_type": "code",
   "execution_count": 8,
   "id": "c20a21cc",
   "metadata": {
    "mystnb": {
     "number_source_lines": true
    }
   },
   "outputs": [
    {
     "name": "stdout",
     "output_type": "stream",
     "text": [
      "Her er en tekst som ska beskyttes.\n",
      " Denne teksten er beskyttet av opphavsrett. \n",
      "     Dersom du ønsker å kopiere fra den eller bruke den \n",
      "     til andre formål enn personlig bruk, må du\n",
      "             kontakte Jens Olsen.\n"
     ]
    }
   ],
   "source": [
    "def skrivOpphavsRett2(fornavn, etternavn):\n",
    "     print(\"\"\" Denne teksten er beskyttet av opphavsrett. \n",
    "     Dersom du ønsker å kopiere fra den eller bruke den \n",
    "     til andre formål enn personlig bruk, må du\n",
    "             kontakte \"\"\" + fornavn + \" \" + etternavn+\".\")\n",
    "print(\"Her er en tekst som ska beskyttes.\")\n",
    "skrivOpphavsRett2(\"Jens\", \"Olsen\")"
   ]
  },
  {
   "cell_type": "markdown",
   "id": "b7d5e9ad",
   "metadata": {},
   "source": [
    "I eksemplet ovenfor blir `fornavn` og `etternavn` på linje 1 <!--\\index{funksjoner!paramettre}-->**parametre**, og  \"Jens\" og \"Olsen\" (linje 7) <!--\\index{funksjoner!argumenter}-->**argumenter**. Parametrene\n",
    "gjør at funksjonen defineres èn gang, og kan deretter brukes av\n",
    "forskjellige opphavspersoner, representert ved argumentene.\n",
    "Referansene `fornavn` og `etternavn` på linje 5 i funksjonsdefinisjonen, gjør at\n",
    "argumentverdiene\n",
    " (i vårt eksempel *Jens* hhv, *Olsen*) blir\n",
    "skrevet ut.\n",
    "\n",
    "I eksemplet nedenfor brukes den samme funksjonen, denne gangen med verdiene servert funksjonen i *variabler* heller enn direkte tekstverdier. For funksjonen er dette hipp som happ."
   ]
  },
  {
   "cell_type": "code",
   "execution_count": 9,
   "id": "96f4ae2b",
   "metadata": {
    "mystnb": {
     "number_source_lines": true
    }
   },
   "outputs": [
    {
     "name": "stdout",
     "output_type": "stream",
     "text": [
      "Her er en tekst som skal beskyttes.\n",
      " Denne teksten er beskyttet av opphavsrett. \n",
      "     Dersom du ønsker å kopiere fra den eller bruke den \n",
      "     til andre formål enn personlig bruk, må du\n",
      "             kontakte Jens Olsen.\n"
     ]
    }
   ],
   "source": [
    "fnavn=\"Jens\"\n",
    "enavn=\"Olsen\"\n",
    "print(\"Her er en tekst som skal beskyttes.\")\n",
    "skrivOpphavsRett2(fnavn, enavn)"
   ]
  },
  {
   "cell_type": "markdown",
   "id": "c48058c2",
   "metadata": {},
   "source": [
    "⚠️ **Merk!**  Definisjonen av `skrivOpphavsRett2` er å finne i cellen over denne cellen. \n",
    "\n",
    "✍️ **Oppgave:** Kopier innholdet fra cellene over og hevd opphavsrett til din egen tekst. Bruk gjerne variabler og ikke direkte tekstverdier for navnet ditt. \n",
    "\n",
    "\n",
    "Funksjoner kan ha så mange parametre som programmereren finner\n",
    "nødvendig. Funksjonen \n",
    "`skrivOpphavsrett2` har to parametre med hver sitt \n",
    "unike navn. Ved kall til funksjonen, har hver parameter  sitt argument, og rekkefølgen av argumentene skal gjenspeile rekkefølgen i parametrene.\n",
    "<!--\n",
    "\\medskip\n",
    "\\medskip\n",
    "%\\lstMakeShortInline[language=Python,basicstyle=\\ttfamily]|\n",
    "\\begin{figure}[H]\n",
    "\\begin{center}\n",
    "\\includegraphics[width=1.0\\linewidth]{Images/funksjoner/opphavsrett2_vars.png}\n",
    "\\end{center}\n",
    "\\caption{Kall til SkrivOpphavsRett2() med variabler som argumenter.} \n",
    "\\label{opphavsrett2_vars} \n",
    "\\end{figure}\n",
    "%\\lstDeleteShortInline|\n",
    "%\\lstDeleteShortInline!\n",
    "%\\subsection{Teste på motsatt (negert) betingelse: $!=$  - %operatoren}\n",
    "\n",
    "%\\lstMakeShortInline[language=Python,basicstyle=\\ttfamily]!\n",
    "-->\n",
    "\n",
    "\n",
    "\n",
    "### Egendefinerte funksjoner med returverdi\n",
    "\n",
    "\n",
    "Funksjoner med **returverdi** kan sammenlignes med å interagere med en\n",
    "drikkeautomat. En drikkeautomat tar imot argumenter (pengebeløp og\n",
    "produktvalg), og gir tilbake en kopp, med innhold (og mengde) som\n",
    "styres av argumentverdiene.\n",
    "\n",
    "På tilsvarende måte kan en funksjon produsere en verdi mens den\n",
    "kjører. Kommandoen `return` sørger for at verdien gjøres tilgjengelig for programmet som kalte på funksjonen.\n",
    "\n",
    " En funksjon med en returverdi kan kalles som i eksemplet nedenfor.\n",
    "\n",
    "![returfunksjon](./Images/funksjoner/funksjon_jb.png)\n",
    " \n",
    "I eksemplet nedenfor ser du to funksjoner som håndterer to parameterverdier på to forskjellige måter. Den ene, i linje 1, printer resultatet direkte og er dermed en handling, og den andre, linje 5 som *returnerer* resultatet og kan dermed ses på som en dynamisk variabel."
   ]
  },
  {
   "cell_type": "code",
   "execution_count": 10,
   "id": "b12c64ff",
   "metadata": {
    "mystnb": {
     "number_source_lines": true
    }
   },
   "outputs": [],
   "source": [
    "def printInvertertForm(fornavn, etternavn):\n",
    "    invertert=etternavn+\", \"+fornavn\n",
    "    print(invertert)\n",
    "    \n",
    "def returnerInvertertForm(fornavn, etternavn):\n",
    "    invertert=etternavn+\", \"+fornavn\n",
    "    return invertert"
   ]
  },
  {
   "cell_type": "markdown",
   "id": "cdb8e52b",
   "metadata": {},
   "source": [
    "I eksemplet nedenfor kjøres de to funksjone hhv. èn og to ganger."
   ]
  },
  {
   "cell_type": "code",
   "execution_count": 11,
   "id": "b72783fa",
   "metadata": {
    "mystnb": {
     "number_source_lines": true
    }
   },
   "outputs": [
    {
     "name": "stdout",
     "output_type": "stream",
     "text": [
      "Preminger, Michael\n",
      "returnert: Preminger, Michael\n",
      "returnert: Olsen, Jens\n"
     ]
    }
   ],
   "source": [
    "printInvertertForm(\"Michael\", \"Preminger\")\n",
    "# print er i linja over, returnert er i linjene under\n",
    "inv1 = returnerInvertertForm(\"Michael\", \"Preminger\")\n",
    "fornavn=\"Jens\"\n",
    "etternavn=\"Olsen\"\n",
    "inv2=returnerInvertertForm(fornavn, etternavn)\n",
    "print(\"returnert:\", inv1)\n",
    "print(\"returnert:\", inv2)"
   ]
  },
  {
   "cell_type": "markdown",
   "id": "b568a519",
   "metadata": {},
   "source": [
    "For å oppsummere eksemplene:\n",
    "Kommandoen `return` i linje 7 i funksjonsdefinisjonen ovenfor har følgende rolle:\n",
    "* funksjonen avgir verdien i angitt variabel til programmet som kalte den\n",
    "* funksjonen avsluttes, og programmet kjører videre, utstyrt med den nye verdien (se variablene `inv1` og `inv2`), som det kan bruke videre.\n",
    "\n",
    "Funksjonen `minstAv` nedenfor har to parametre, og tar derfor to argumenter. Den returnerer et tall, som er dèt med minst verdi av de to argumentene."
   ]
  },
  {
   "cell_type": "code",
   "execution_count": 12,
   "id": "a7c2c95d",
   "metadata": {
    "mystnb": {
     "number_source_lines": true
    }
   },
   "outputs": [
    {
     "name": "stdout",
     "output_type": "stream",
     "text": [
      "2\n"
     ]
    }
   ],
   "source": [
    "def minstAv(tall1, tall2):\n",
    "    if tall1 < tall2:\n",
    "        return tall1\n",
    "    else:\n",
    "        return tall2\n",
    "        \n",
    "print(minstAv(2,4))"
   ]
  },
  {
   "cell_type": "markdown",
   "id": "39cef777",
   "metadata": {},
   "source": [
    "✍️ **Oppgave:** Med utgangspunkt i funksjonen over, gjør endringer slik at den printer det største av to tall istedet. \n",
    "\n",
    "Vi sa tidligere at en funksjon som returnerer en verdi kan ses på som en dynamisk variabel.\n",
    "Av det følger at en slik funksjon har også en datatype. Typen returverdi definerer hvilken type funksjonen har. \n",
    "Vi sier at funksjonen `returnerInvertertForm()` er en **tekstfunksjon**, mens `minstAv()` er en **tallfunksjon**.\n",
    "<!--\n",
    "\n",
    "\n",
    "   \n",
    "\n",
    "\\begin{comment}\n",
    "-->\n",
    "\n",
    "\n",
    "## Funksjoner i komplekse datatyper og moduler\n",
    "\n",
    "De fleste som programmerer i *Python* bruker funksjoner som er definert i moduler og i komplekse datatyper. Slike datatyper er definert i python som klasser og objekter. Sistnevnte er ikke en del som denne boka ser det nødvendig å dekke utfyllene, men vi tar allikevel en kort gjennomgang under, særlig fordi ulike datatyper kommer med funksjoner, som det kan være greit å vite om.\n",
    "<!--\n",
    "-->\n",
    "### Klasser, objekter og datatyper\n",
    "\n",
    "Hvorfor kommer ulike datatyper med noen \"ferdige\" funksjoner \"på kjøpet\"? \n",
    "\n",
    "Dette har å gjøre med **objektorientert programmering**. Objektorientert programmering springer ut av ønsket om at programmer skal representere verden som \"agenter\" (forenklede representasjoner av reelle ting i verden) som interagerer (\"snakker\") med hverandre. For eksempel kan en representasjon av en person \"kjøpe\" en representasjon av en bil, ved at eier-egenskapen til sistnenvte endres til å være denne personen (representert ved navn eller personnummer, for eksempel). \n",
    "\n",
    "Bil-representasjonen er *forenklet* til behovet, og trenger, for dette formålet her, ikke ha andre egenskaper enn \"eier\". Representasjonen av denne bilen trenger ikke ha egenskaper som farge eller vekt, hvis alt programmet trenger å vite er hvem som eier denne bilen. Deri ligger forenklingen.\n",
    "\n",
    "Disse representasjonene er definert i Python som *objekter* av *klasser*. \n",
    "\n",
    "Enda et eksempel: et program som skal holde orden på en skole, må ha representasjoner (klasser) for lærere, elever, rom og bygninger. Så kan man opprette objekter (representasjoner av *konkrete* lærere, elever og rom) basert på disse klassene.\n",
    "\n",
    "Så langt har vi forholdt oss til slike klasser som komplekse datatyper. Dette kan vi fortsatt gjøre, selv om vi har innført begrepet *klasse*. En klasse er, altså, en modell (mal, om du vil) for typer objekter. Vi sier at klasser har egenskaper (variabler) og oppførsel (funksjoner).\n",
    "\n",
    "Eksempel på komplekse datatyper som vi allerede har møtt i denne boka, er tekststrenger, lister og dicter. Alle disse datatypene har variabler og funksjoner koblet til dem. Variablene er egenskapene, og funksjonene (oppførselen) kalles ofte **metoder**, og muliggjør handlinger som er forbundet med disse typene (veldig ofte innebærer dette å endre verdier i variablene).  I databehandling og -analyse er det funksjoner som kalles metoder vi ofte tyr til for å få til det vi vil. \n",
    "\n",
    "### Funksjoner for datatypen tekststreng\n",
    "\n",
    "En sekvens med tegn (bokstaver, tall eller spesialtegn) som angis mellom enkle eller doble anførselstegn, antas av *Python* å være en verdi (objekt) av datatypen (klassen) tekstreng, og en god del funksjoner er tilgjengelig for disse. Se for eksempel metoden `replace` i cellen nedenfor."
   ]
  },
  {
   "cell_type": "code",
   "execution_count": 13,
   "id": "1b61684c",
   "metadata": {
    "mystnb": {
     "number_source_lines": true
    }
   },
   "outputs": [
    {
     "data": {
      "text/plain": [
       "'Jeg liker bananer'"
      ]
     },
     "execution_count": 13,
     "metadata": {},
     "output_type": "execute_result"
    }
   ],
   "source": [
    "\"Jeg liker epler\".replace(\"epler\", \"bananer\")"
   ]
  },
  {
   "cell_type": "markdown",
   "id": "144c237b",
   "metadata": {},
   "source": [
    "Det er dog vanligere å se slike funksjoner anvendt på en variabel med en tekststreng som verdi, som vist nedenfor."
   ]
  },
  {
   "cell_type": "code",
   "execution_count": 14,
   "id": "05fe8c68",
   "metadata": {
    "mystnb": {
     "number_source_lines": true
    }
   },
   "outputs": [
    {
     "name": "stdout",
     "output_type": "stream",
     "text": [
      "Jeg liker bananer\n"
     ]
    }
   ],
   "source": [
    "tekst = \"Jeg liker epler\"\n",
    "ny_tekst = tekst.replace(\"epler\", \"bananer\")\n",
    "print(ny_tekst) "
   ]
  },
  {
   "cell_type": "markdown",
   "id": "4443d1e1",
   "metadata": {},
   "source": [
    "`replace()` er en av flere metoder som er definert for tekststreng-typen. Se ellers dokumentasjonen til `str` i <a href=\"https://docs.python.org/3/library/stdtypes.html#textseq\">Python's formelle dokumentasjon</a>  eller i  <a href=\"https://www.w3schools.com/python/python_strings.asp\">W3Schhols</a> .\n",
    "\n",
    "### Funksjoner for datatypen liste\n",
    "\n",
    "Bruken av lister er forklart og eksemplifisert i <a href=\"./kapittel5.html\">et tidligere kapittel</a>. Nedenfor her fokuseres det på funksjoner (metoder) definert for denne typen. En funksjon vi har brukt en del er funsjonen `append()`, som legger en ny innførsel bakerst i listen."
   ]
  },
  {
   "cell_type": "code",
   "execution_count": 15,
   "id": "25bc7980",
   "metadata": {
    "mystnb": {
     "number_source_lines": true
    }
   },
   "outputs": [
    {
     "data": {
      "text/plain": [
       "['eple', 'banan', 'appelsin', 'mango']"
      ]
     },
     "execution_count": 15,
     "metadata": {},
     "output_type": "execute_result"
    }
   ],
   "source": [
    "liste = [\"eple\", \"banan\", \"appelsin\"]\n",
    "liste.append(\"mango\")\n",
    "liste"
   ]
  },
  {
   "cell_type": "markdown",
   "id": "4324d221",
   "metadata": {},
   "source": [
    "Men hva gjør vi om vi ønsker å \"forlenge\" listen med noen flere frukter? \n",
    "for eksempel `liste2 = [\"klementin\", \"pære\", \"drue\"]` ?\n",
    "\n",
    "Vi kan prøve med append:"
   ]
  },
  {
   "cell_type": "code",
   "execution_count": 16,
   "id": "c24b58e7",
   "metadata": {
    "mystnb": {
     "number_source_lines": true
    }
   },
   "outputs": [
    {
     "data": {
      "text/plain": [
       "['eple', 'banan', 'appelsin', ['klementin', 'pære', 'drue']]"
      ]
     },
     "execution_count": 16,
     "metadata": {},
     "output_type": "execute_result"
    }
   ],
   "source": [
    "liste = [\"eple\", \"banan\", \"appelsin\"]\n",
    "liste2 = [\"klementin\", \"pære\", \"drue\"]\n",
    "liste.append(liste2)\n",
    "liste"
   ]
  },
  {
   "cell_type": "markdown",
   "id": "7bf3a708",
   "metadata": {},
   "source": [
    "Som du ser av utskriften, ble `liste2` lagt til som den siste  **innførselen** i `liste`.  Det var ikke det vi ville.\n",
    "\n",
    "For å få det slik vi ønsker, bruker vi metoden (funksjonen) `.extend()`."
   ]
  },
  {
   "cell_type": "code",
   "execution_count": 17,
   "id": "5a8b21fc",
   "metadata": {
    "mystnb": {
     "number_source_lines": true
    }
   },
   "outputs": [
    {
     "data": {
      "text/plain": [
       "['eple', 'banan', 'appelsin', 'klementin', 'pære', 'drue']"
      ]
     },
     "execution_count": 17,
     "metadata": {},
     "output_type": "execute_result"
    }
   ],
   "source": [
    "liste = [\"eple\", \"banan\", \"appelsin\"]\n",
    "liste2 = [\"klementin\", \"pære\", \"drue\"]\n",
    "liste.extend(liste2)\n",
    "liste"
   ]
  },
  {
   "cell_type": "markdown",
   "id": "53e4a27f",
   "metadata": {},
   "source": [
    "⚠️ **Merk!**  Det er en viktig forskjell på `str.replace()` og `list.append()` eller `list.extend()`. Mens de to sistnevnte er **handlinger**, altså de anvendes på listen de kjøres på slik at den opprinnelige listen endres, er `str.replace()` slik at den returnerer en ny streng. Den opprinnelige strengen endres ikke, men en kopi, med endringen, lages og returneres. \n",
    "\n",
    "### Funksjoner for datatypen dict\n",
    "\n",
    "Vi har allerede definert dict som en datatype som holder flere verdier pekt til av nøkler. Liksom tekststreng og liste, har også dict-typen funksjoner (metoder) knyttet til seg. Eksempler er `dict.keys()`, `dict.values()` og `dict.items()`, som returnerer innholdet i dicte'en på forskjellige former. I eksemplene nedenfor anvendes disse på en enkel dict. Legg spesielt merke til at items() legger dicten ut som tupler, en tuppel per dict-innførsel."
   ]
  },
  {
   "cell_type": "code",
   "execution_count": 18,
   "id": "eb0f0d5f",
   "metadata": {
    "mystnb": {
     "number_source_lines": true
    }
   },
   "outputs": [
    {
     "name": "stdout",
     "output_type": "stream",
     "text": [
      "en\n",
      "to\n",
      "tre\n"
     ]
    }
   ],
   "source": [
    "dicten = {\"en\" : 1, \"to\" : 2, \"tre\" : 3}\n",
    "for i in dicten.keys():\n",
    "    print(i)"
   ]
  },
  {
   "cell_type": "code",
   "execution_count": 19,
   "id": "37cd3760",
   "metadata": {
    "mystnb": {
     "number_source_lines": true
    }
   },
   "outputs": [
    {
     "name": "stdout",
     "output_type": "stream",
     "text": [
      "1\n",
      "2\n",
      "3\n"
     ]
    }
   ],
   "source": [
    "for i in dicten.values():\n",
    "    print(i)"
   ]
  },
  {
   "cell_type": "code",
   "execution_count": 20,
   "id": "505f3a0a",
   "metadata": {
    "mystnb": {
     "number_source_lines": true
    }
   },
   "outputs": [
    {
     "name": "stdout",
     "output_type": "stream",
     "text": [
      "('en', 1)\n",
      "('to', 2)\n",
      "('tre', 3)\n"
     ]
    }
   ],
   "source": [
    "for i in dicten.items():\n",
    "    print(i)"
   ]
  },
  {
   "cell_type": "markdown",
   "id": "6d962cce",
   "metadata": {},
   "source": [
    "### Funksjoner definert i moduler\n",
    "\n",
    "En **modul** er en \"pakke\" med klasser og funksjoner. Disse er enten *innebygd* i *Python*, eller kan installeres med kommandoen `pip`. For å bruke disse i en Notebook eller `.py`-fil[^pyfiler], må `import`-kommandoen brukes.\n",
    "\n",
    "\n",
    "\n",
    "`math`- modulen er et eksempel på en modul som har mange funksjoner som tilbyr matematiske operasjoner på tall-variabler. I cellen nedenfor er det noen enkle eksempler på bruken av `math`-modulen. Legg merke til at disse både tar parametre og returnerer verdier (det finnes også slike funksjoner til List og Dict - typene som ikke vises her)."
   ]
  },
  {
   "cell_type": "code",
   "execution_count": 21,
   "id": "497ae8e8",
   "metadata": {
    "mystnb": {
     "number_source_lines": true
    }
   },
   "outputs": [
    {
     "name": "stdout",
     "output_type": "stream",
     "text": [
      "heltallet over 1.4 = 2\n",
      "heltallet under 1.5 = 1\n",
      "kvadratroten av 4 =  2.0\n"
     ]
    }
   ],
   "source": [
    "import math\n",
    "print(\"heltallet over 1.4 =\", math.ceil(1.4))\n",
    "print(\"heltallet under 1.5 =\", math.floor(1.5))\n",
    "print(\"kvadratroten av 4 = \", math.sqrt(4))"
   ]
  },
  {
   "cell_type": "markdown",
   "id": "b3c35e77",
   "metadata": {},
   "source": [
    "[^pyfiler]: En .py-fil er en fil med python-kommandoer som kan enten kjøres direkte fra operativsystemet, eller kan importeres inn i en notebook for at funksjonene definert i den skal kunne brukes i notebook'en. Det er, altså, relativt enkelt å lage egne moduler, altså skrive funksjoner i .py-filer og bruke disse i notebooks. Se et eksempel <a href=\"https://www.digitalocean.com/community/tutorials/how-to-write-modules-in-python-3\">her</a>.\n",
    "\n",
    "\n",
    "### Eksempelprogram som bruker klasser og moduler\n",
    "\n",
    "Eksemplet nedenfor viser et eksempel på et program som bruker en modul (`io`) og to innebygde klasser (`str` og `list`) til å lese en fil med tall i, og skrive en ny fil. \n",
    "\n",
    "Modulen `io` har funksjoner (blant annet `open()` og `close()` som vi bruker), og klasser, blant annet en filklasse (`TextIOWrapper`) som vi bruker to objekter av: `innfil` og `utfil`. `TextIOWrapper` har metodene `readlines()` som  returnerer linjene i filen `innfil` som en liste av `str` - objekter, og `writelines()` som tar en liste av `str` - objekter og lagrer denne til filen \"fleretall.txt\" representert av `utfil`-objektet. `close()` metoden lagrer og lukker filen. For å gjenskape dette eksemplet trenger du tekstfilen \"mangetall.txt\" som har tallene 1 - 10 inkludert, på hver sin linje, i samme mappe som programmet kjører fra."
   ]
  },
  {
   "cell_type": "code",
   "execution_count": 22,
   "id": "e3d157a2",
   "metadata": {
    "mystnb": {
     "number_source_lines": true
    }
   },
   "outputs": [
    {
     "name": "stdout",
     "output_type": "stream",
     "text": [
      "1\n",
      "2\n",
      "3\n",
      "4\n",
      "5\n",
      "6\n",
      "7\n",
      "8\n",
      "9\n",
      "10\n",
      "\n"
     ]
    }
   ],
   "source": [
    "import io\n",
    "innfil=io.open('./mangetall.txt')\n",
    "\n",
    "# Les alle linjene \n",
    "talliste=innfil.readlines()\n",
    "\n",
    "for tall in talliste:\n",
    "    print(tall.strip()) # strip() viser tallet uten linjeskift\n",
    "    \n",
    "talliste.append(\"11\")\n",
    "utfil=io.open(\"./fleretall.txt\", \"w\")\n",
    "utfil.writelines(talliste)\n",
    "utfil.close()"
   ]
  },
  {
   "cell_type": "markdown",
   "id": "dac7a92c",
   "metadata": {},
   "source": [
    "I dette siste eksemplet kom det plutselig en god del nye **metoder**, samt at koden også leser av en bestemt fil. Mye nytt introduseres plutselig i dette eksempelet. Meningen er ikke at du skal nå lære deg alle disse funksjonene, men istedet få et innblikk i noe du vil kunne gjøre etter å ha gjennomført bokas del III. Men da skal vi ta i bruk funksjonsbiblioteket *Pandas* og jobbe med spesifikke datasett knyttet til litteratur. Fordelen med *Pandas* er at du kan se hvordan ting endrer seg i et datasett ettersom du bruker ulike funksjoner for å håndtere datasettet og videre foreta analyser. Du vil i bokas del III bli godt kjent med en håndfull ulike funksjoner som du vil bruke ofte. Vi håper gjennomgangen over vil være til hjelp for å skjønne hva som faktisk skjer når du bruker funksjoner."
   ]
  }
 ],
 "metadata": {
  "jupytext": {
   "formats": "md:myst",
   "text_representation": {
    "extension": ".md",
    "format_name": "myst",
    "format_version": 0.13,
    "jupytext_version": "1.11.5"
   }
  },
  "kernelspec": {
   "display_name": "Python 3",
   "language": "python",
   "name": "python3"
  },
  "language_info": {
   "codemirror_mode": {
    "name": "ipython",
    "version": 3
   },
   "file_extension": ".py",
   "mimetype": "text/x-python",
   "name": "python",
   "nbconvert_exporter": "python",
   "pygments_lexer": "ipython3",
   "version": "3.11.4"
  },
  "mystnb": {
   "number_source_lines": true
  },
  "source_map": [
   15,
   71,
   80,
   88,
   97,
   220,
   232,
   243,
   249,
   254,
   264,
   302,
   315,
   362,
   374,
   387,
   396,
   444,
   456,
   460,
   473,
   485,
   497,
   538,
   544,
   548,
   556,
   564,
   572,
   579,
   588,
   592,
   601,
   609,
   619,
   628,
   635,
   645,
   654,
   664,
   682
  ]
 },
 "nbformat": 4,
 "nbformat_minor": 5
}